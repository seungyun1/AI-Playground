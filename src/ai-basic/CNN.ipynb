{
 "cells": [
  {
   "cell_type": "markdown",
   "id": "ccf8cc02",
   "metadata": {},
   "source": [
    "## 1. 라이브러리 불러오기"
   ]
  },
  {
   "cell_type": "code",
   "execution_count": 67,
   "id": "65e694bb",
   "metadata": {},
   "outputs": [
    {
     "data": {
      "text/plain": [
       "device(type='cpu')"
      ]
     },
     "execution_count": 67,
     "metadata": {},
     "output_type": "execute_result"
    }
   ],
   "source": [
    "import torch\n",
    "import torch.nn as nn\n",
    "import torch.optim as optim\n",
    "from torchvision import datasets, transforms\n",
    "from torch.utils.data import DataLoader\n",
    "from torchinfo import summary\n",
    "import matplotlib.pyplot as plt\n",
    "\n",
    "%matplotlib inline\n",
    "device = torch.device('cuda' if torch.cuda.is_available() else 'cpu')\n",
    "device"
   ]
  },
  {
   "cell_type": "markdown",
   "id": "4656d7ac",
   "metadata": {},
   "source": [
    "## 2. MNIST 데이터셋 불러오기"
   ]
  },
  {
   "cell_type": "code",
   "execution_count": 68,
   "id": "6e663beb",
   "metadata": {},
   "outputs": [
    {
     "data": {
      "text/plain": [
       "Dataset MNIST\n",
       "    Number of datapoints: 60000\n",
       "    Root location: ./data\n",
       "    Split: Train\n",
       "    StandardTransform\n",
       "Transform: ToTensor()"
      ]
     },
     "execution_count": 68,
     "metadata": {},
     "output_type": "execute_result"
    }
   ],
   "source": [
    "train_dataset = datasets.MNIST(root='./data', train=True, transform=transforms.ToTensor(), download=True)\n",
    "test_dataset = datasets.MNIST(root='./data', train=False, transform=transforms.ToTensor(), download=True)\n",
    "\n",
    "train_dataset"
   ]
  },
  {
   "cell_type": "code",
   "execution_count": 88,
   "id": "875b38e4",
   "metadata": {},
   "outputs": [
    {
     "data": {
      "text/plain": [
       "(torch.Size([64, 1, 28, 28]), torch.Size([64]))"
      ]
     },
     "execution_count": 88,
     "metadata": {},
     "output_type": "execute_result"
    }
   ],
   "source": [
    "train_loader = DataLoader(train_dataset, batch_size=64, shuffle=True)\n",
    "test_loader = DataLoader(test_dataset, batch_size=64)\n",
    "\n",
    "data, label = next(iter(train_loader))\n",
    "data.shape, label.shape"
   ]
  },
  {
   "cell_type": "code",
   "execution_count": 89,
   "id": "9fa9af13",
   "metadata": {},
   "outputs": [
    {
     "data": {
      "text/plain": [
       "torch.Size([28, 28])"
      ]
     },
     "execution_count": 89,
     "metadata": {},
     "output_type": "execute_result"
    }
   ],
   "source": [
    "image_show = data[0, 0, :, :]\n",
    "image_show.shape"
   ]
  },
  {
   "cell_type": "code",
   "execution_count": 90,
   "id": "447ab962",
   "metadata": {},
   "outputs": [
    {
     "data": {
      "image/png": "[encoded data removed]",
      "text/plain": [
       "<Figure size 640x480 with 1 Axes>"
      ]
     },
     "metadata": {},
     "output_type": "display_data"
    }
   ],
   "source": [
    "plt.imshow(image_show, \"gray\")\n",
    "plt.show()"
   ]
  },
  {
   "cell_type": "code",
   "execution_count": 91,
   "id": "3fe00cad-5a95-48c1-9663-2fc976643fc4",
   "metadata": {},
   "outputs": [],
   "source": [
    "def conv2d_output_size(input_size, kernel_size, stride=1, padding=0):\n",
    "    height, width = input_size\n",
    "\n",
    "    # Convolution 공식 적용\n",
    "    out_height = (height + 2 * padding - kernel_size) // stride + 1\n",
    "    out_width = (width + 2 * padding - kernel_size) // stride + 1\n",
    "\n",
    "    return out_height, out_width"
   ]
  },
  {
   "cell_type": "code",
   "execution_count": 92,
   "id": "9b855dc8-0d69-4b6c-8518-270d74334a78",
   "metadata": {},
   "outputs": [
    {
     "name": "stdout",
     "output_type": "stream",
     "text": [
      "Output feature map size: (28, 28)\n"
     ]
    }
   ],
   "source": [
    "output_size = conv2d_output_size((28, 28), 3, 1, 1)  # (height, width), kernel_size, stride, padding\n",
    "print(f\"Output feature map size: {output_size}\")"
   ]
  },
  {
   "cell_type": "markdown",
   "id": "1ab97a9f",
   "metadata": {},
   "source": [
    "## 3. CNN 모델 구성"
   ]
  },
  {
   "cell_type": "code",
   "execution_count": 93,
   "id": "b5221ae5",
   "metadata": {},
   "outputs": [
    {
     "data": {
      "text/plain": [
       "==========================================================================================\n",
       "Layer (type:depth-idx)                   Output Shape              Param #\n",
       "==========================================================================================\n",
       "CNN                                      [64, 10]                  --\n",
       "├─Conv2d: 1-1                            [64, 32, 28, 28]          320\n",
       "├─ReLU: 1-2                              [64, 32, 28, 28]          --\n",
       "├─MaxPool2d: 1-3                         [64, 32, 14, 14]          --\n",
       "├─Conv2d: 1-4                            [64, 64, 14, 14]          18,496\n",
       "├─ReLU: 1-5                              [64, 64, 14, 14]          --\n",
       "├─MaxPool2d: 1-6                         [64, 64, 7, 7]            --\n",
       "├─Flatten: 1-7                           [64, 3136]                --\n",
       "├─Linear: 1-8                            [64, 128]                 401,536\n",
       "├─ReLU: 1-9                              [64, 128]                 --\n",
       "├─Linear: 1-10                           [64, 32]                  4,128\n",
       "├─ReLU: 1-11                             [64, 32]                  --\n",
       "├─Linear: 1-12                           [64, 10]                  330\n",
       "==========================================================================================\n",
       "Total params: 424,810\n",
       "Trainable params: 424,810\n",
       "Non-trainable params: 0\n",
       "Total mult-adds (M): 274.05\n",
       "==========================================================================================\n",
       "Input size (MB): 0.20\n",
       "Forward/backward pass size (MB): 19.35\n",
       "Params size (MB): 1.70\n",
       "Estimated Total Size (MB): 21.25\n",
       "=========================================================================================="
      ]
     },
     "execution_count": 93,
     "metadata": {},
     "output_type": "execute_result"
    }
   ],
   "source": [
    "class CNN(nn.Module):\n",
    "    def __init__(self):\n",
    "        super().__init__()\n",
    "        self.conv1 = nn.Conv2d(in_channels=1, out_channels=32, kernel_size=3, padding=1)\n",
    "        self.conv2 = nn.Conv2d(in_channels=32, out_channels=64, kernel_size=3, padding=1)\n",
    "        \n",
    "        self.flatten = nn.Flatten()\n",
    "        self.relu = nn.ReLU()\n",
    "        self.pool = nn.MaxPool2d(kernel_size=2, stride=2, padding=0)\n",
    "        \n",
    "        self.fc1 = nn.Linear(64 * 7 * 7, 128)\n",
    "        self.fc2 = nn.Linear(128, 32)\n",
    "        self.fc3 = nn.Linear(32, 10)\n",
    "        \n",
    "    def forward(self, x):\n",
    "        x = self.pool(self.relu(self.conv1(x)))\n",
    "        x = self.pool(self.relu(self.conv2(x)))\n",
    "        x = self.flatten(x)\n",
    "        x = self.relu(self.fc1(x))\n",
    "        x = self.relu(self.fc2(x))\n",
    "        x = self.fc3(x)\n",
    "        \n",
    "        return x\n",
    "    \n",
    "\n",
    "model = CNN().to(device)\n",
    "summary(model, input_size=(64, 1, 28, 28))"
   ]
  },
  {
   "cell_type": "markdown",
   "id": "31c4d364",
   "metadata": {},
   "source": [
    "## 4. 학습 & 평가 함수 정의"
   ]
  },
  {
   "cell_type": "code",
   "execution_count": 94,
   "id": "5ca4d3d5-7d4f-4cad-82d9-dbc89f548048",
   "metadata": {},
   "outputs": [],
   "source": [
    "def train(model, train_loader, criterion, optimizer, device):\n",
    "    model.train()  # 모델을 학습 모드로 설정\n",
    "\n",
    "    running_loss = 0.0 # 미니 배치별 loss값을 누적할 변수\n",
    "\n",
    "    for data, labels in train_loader: # 미니 배치 별 파라미터 업데이트 수행\n",
    "        data, labels = data.to(device), labels.to(device) # 미니 배치별 데이터와 레이블 장치 할당\n",
    "\n",
    "        # 순전파\n",
    "        outputs = model(data)\n",
    "\n",
    "        # 손실 계산\n",
    "        loss = criterion(outputs, labels)\n",
    "\n",
    "        # 기울기 초기화\n",
    "        optimizer.zero_grad()\n",
    "\n",
    "        # 역전파\n",
    "        loss.backward()\n",
    "\n",
    "        # 파라미터 업데이트\n",
    "        optimizer.step()\n",
    "\n",
    "        # 손실 누적\n",
    "        running_loss += loss.item()\n",
    "\n",
    "    # 현재 Epoch의 평균 손실 값 계산 및 반환\n",
    "    return running_loss / len(train_loader)"
   ]
  },
  {
   "cell_type": "code",
   "execution_count": 95,
   "id": "1300800e-f0cb-4c24-9201-57a7563a0a5e",
   "metadata": {},
   "outputs": [],
   "source": [
    "# 평가 함수 정의\n",
    "def evaluate(model, test_loader, criterion, device):\n",
    "    model.eval()  # 모델을 평가 모드로 설정\n",
    "\n",
    "    running_loss = 0.0 # 미니 배치별 loss값을 누적할 변수\n",
    "\n",
    "    with torch.no_grad():  # 평가 중에는 기울기 계산을 하지 않음\n",
    "        for data, labels in test_loader: # 미니 배치 별 손실 계산\n",
    "            data, labels = data.to(device), labels.to(device) # 미니 배치별 데이터와 레이블 장치 할당\n",
    "\n",
    "            # 순전파\n",
    "            outputs = model(data)\n",
    "\n",
    "            # 손실 계산\n",
    "            loss = criterion(outputs, labels)\n",
    "\n",
    "            # 손실 누적\n",
    "            running_loss += loss.item()\n",
    "\n",
    "\n",
    "    # 현재 Epoch의 평균 손실 값 계산 및 반환\n",
    "    return running_loss / len(test_loader)"
   ]
  },
  {
   "cell_type": "code",
   "execution_count": 96,
   "id": "d012b516-1d0c-46c5-9f25-d1445c48d8f0",
   "metadata": {},
   "outputs": [
    {
     "name": "stdout",
     "output_type": "stream",
     "text": [
      "Epoch 1 Train Loss : 0.2323125587018735 Test Loss : 0.06468156258950816\n",
      "Epoch 2 Train Loss : 0.0599875486441461 Test Loss : 0.046212096553619145\n",
      "Epoch 3 Train Loss : 0.04218191747478684 Test Loss : 0.05434799528325564\n",
      "Epoch 4 Train Loss : 0.03329442063876952 Test Loss : 0.0385051008796471\n",
      "Epoch 5 Train Loss : 0.025021358685412092 Test Loss : 0.03336949569950248\n",
      "Epoch 6 Train Loss : 0.02135163888754472 Test Loss : 0.03429550523906305\n",
      "Epoch 7 Train Loss : 0.018002128127488498 Test Loss : 0.03387588619059631\n",
      "Epoch 8 Train Loss : 0.013262335202806596 Test Loss : 0.03028979408308532\n",
      "Epoch 9 Train Loss : 0.011989280454096566 Test Loss : 0.0272184218629133\n",
      "Epoch 10 Train Loss : 0.009923777937965613 Test Loss : 0.030470613437464808\n"
     ]
    }
   ],
   "source": [
    "criterion = nn.CrossEntropyLoss()  # 다중 클래스 분류를 위한 손실 함수\n",
    "optimizer = optim.Adam(model.parameters(), lr=0.001)  # Adam 옵티마이저\n",
    "\n",
    "train_losses = []\n",
    "test_losses = []\n",
    "\n",
    "# 학습 횟수 만큼 반복\n",
    "for epoch in range(10):\n",
    "\n",
    "    # 모델 학습(학습데이터)\n",
    "    train_loss = train(model, train_loader, criterion, optimizer, device)\n",
    "    train_losses.append(train_loss)\n",
    "\n",
    "    # 모델 평가 (평가데이터)\n",
    "    test_loss = evaluate(model, test_loader, criterion, device)\n",
    "    test_losses.append(test_loss)\n",
    "\n",
    "    print(f'Epoch {epoch+1} Train Loss : {train_loss} Test Loss : {test_loss}')"
   ]
  },
  {
   "cell_type": "code",
   "execution_count": null,
   "id": "1bec8537",
   "metadata": {},
   "outputs": [],
   "source": []
  },
  {
   "cell_type": "code",
   "execution_count": null,
   "id": "255f58de",
   "metadata": {},
   "outputs": [],
   "source": []
  }
 ],
 "metadata": {
  "kernelspec": {
   "display_name": "AI",
   "language": "python",
   "name": "ai"
  },
  "language_info": {
   "codemirror_mode": {
    "name": "ipython",
    "version": 3
   },
   "file_extension": ".py",
   "mimetype": "text/x-python",
   "name": "python",
   "nbconvert_exporter": "python",
   "pygments_lexer": "ipython3",
   "version": "3.10.16"
  }
 },
 "nbformat": 4,
 "nbformat_minor": 5
}
