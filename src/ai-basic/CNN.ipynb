{
 "cells": [
  {
   "cell_type": "code",
   "execution_count": 1,
   "id": "fdf84ce8-c009-4751-b568-40afba23271b",
   "metadata": {},
   "outputs": [],
   "source": [
    "%%capture\n",
    "!pip install JAEN -qU"
   ]
  },
  {
   "cell_type": "code",
   "execution_count": 2,
   "id": "3fe00cad-5a95-48c1-9663-2fc976643fc4",
   "metadata": {},
   "outputs": [],
   "source": [
    "def conv2d_output_size(input_size, kernel_size, stride=1, padding=0):\n",
    "    height, width = input_size\n",
    "\n",
    "    # Convolution 공식 적용\n",
    "    out_height = (height + 2 * padding - kernel_size) // stride + 1\n",
    "    out_width = (width + 2 * padding - kernel_size) // stride + 1\n",
    "\n",
    "    return out_height, out_width"
   ]
  },
  {
   "cell_type": "code",
   "execution_count": 3,
   "id": "9b855dc8-0d69-4b6c-8518-270d74334a78",
   "metadata": {},
   "outputs": [
    {
     "name": "stdout",
     "output_type": "stream",
     "text": [
      "Output feature map size: (28, 28)\n"
     ]
    }
   ],
   "source": [
    "# 입력 크기 (Height, Width), 커널 크기, 스트라이드, 패딩\n",
    "output_size = conv2d_output_size((28, 28), 3, 1, 1)\n",
    "print(f\"Output feature map size: {output_size}\")"
   ]
  },
  {
   "cell_type": "code",
   "execution_count": 4,
   "id": "fee140bc-4b3e-48ff-9f8a-0bd84a22aa48",
   "metadata": {},
   "outputs": [
    {
     "name": "stdout",
     "output_type": "stream",
     "text": [
      "Output feature map size: (13, 13)\n"
     ]
    }
   ],
   "source": [
    "# 입력 크기 (Height, Width), 커널 크기, 스트라이드, 패딩\n",
    "output_size = conv2d_output_size((28, 28), 3, 2, 0)\n",
    "print(f\"Output feature map size: {output_size}\")"
   ]
  },
  {
   "cell_type": "code",
   "execution_count": 5,
   "id": "1e072ef4-e4bb-40dc-bade-47165db7d976",
   "metadata": {},
   "outputs": [
    {
     "name": "stdout",
     "output_type": "stream",
     "text": [
      "Output feature map size: (14, 14)\n"
     ]
    }
   ],
   "source": [
    "# 입력 크기 (Height, Width), 커널 크기, 스트라이드, 패딩\n",
    "output_size = conv2d_output_size((28, 28), 3, 2, 1)\n",
    "print(f\"Output feature map size: {output_size}\")"
   ]
  },
  {
   "cell_type": "code",
   "execution_count": 6,
   "id": "e20d1d1e-92be-453e-b345-b758654285fe",
   "metadata": {},
   "outputs": [
    {
     "data": {
      "text/plain": [
       "device(type='cpu')"
      ]
     },
     "execution_count": 6,
     "metadata": {},
     "output_type": "execute_result"
    }
   ],
   "source": [
    "import torch\n",
    "import torch.nn as nn\n",
    "import torch.optim as optim\n",
    "from torchvision import datasets, transforms\n",
    "from torch.utils.data import DataLoader\n",
    "from torchinfo import summary\n",
    "from JAEN.utils import plot_training_results\n",
    "\n",
    "# device 설정 (GPU가 사용 가능하면 GPU로, 그렇지 않으면 CPU 사용)\n",
    "device = torch.device('cuda' if torch.cuda.is_available() else 'cpu')\n",
    "device"
   ]
  },
  {
   "cell_type": "code",
   "execution_count": 7,
   "id": "5ca4d3d5-7d4f-4cad-82d9-dbc89f548048",
   "metadata": {},
   "outputs": [],
   "source": [
    "# 순전파 -> 손실 계산 -> 기울기 초기화 -> 역전파 -> 가중치 업데이트 -> 손실 누적 계산\n",
    "def train(self, train_loader, criterion, optimizer, device):\n",
    "    model.train()\n",
    "    running_loss = 0.0\n",
    "\n",
    "    for data, labels in train_loader:\n",
    "        data, labels = data.to(device), labels.to(device)\n",
    "\n",
    "        outputs = model(data)\n",
    "\n",
    "        loss = criterion(outputs, labels)\n",
    "\n",
    "        optimizer.zero_grad()\n",
    "\n",
    "        loss.backward()\n",
    "\n",
    "        optimizer.step()\n",
    "\n",
    "        running_loss += loss    "
   ]
  },
  {
   "cell_type": "code",
   "execution_count": 8,
   "id": "1300800e-f0cb-4c24-9201-57a7563a0a5e",
   "metadata": {},
   "outputs": [],
   "source": [
    "# 평가 함수 정의\n",
    "def evaluate(model, test_loader, criterion, device):\n",
    "    model.eval()  # 모델을 평가 모드로 설정\n",
    "\n",
    "    running_loss = 0.0 # 미니 배치별 loss값을 누적할 변수\n",
    "\n",
    "    with torch.no_grad():  # 평가 중에는 기울기 계산을 하지 않음\n",
    "        for data, labels in test_loader: # 미니 배치 별 손실 계산\n",
    "            data, labels = data.to(device), labels.to(device) # 미니 배치별 데이터와 레이블 장치 할당\n",
    "\n",
    "            # 순전파\n",
    "            outputs = model(data)\n",
    "\n",
    "            # 손실 계산\n",
    "            loss = criterion(outputs, labels)\n",
    "\n",
    "            # 손실 누적\n",
    "            running_loss += loss.item()\n",
    "\n",
    "\n",
    "    # 현재 Epoch의 평균 손실 값 계산 및 반환\n",
    "    return running_loss / len(test_loader)"
   ]
  },
  {
   "cell_type": "code",
   "execution_count": 9,
   "id": "2720e6ce-092a-49ae-9c0f-443255baf7d5",
   "metadata": {},
   "outputs": [],
   "source": [
    "# FashionMNIST 데이터 변환 (이미지를 텐서로 변환하고 [0, 1] 범위로 정규화)\n",
    "transform = transforms.Compose([\n",
    "    transforms.ToTensor(),\n",
    "])"
   ]
  },
  {
   "cell_type": "code",
   "execution_count": 10,
   "id": "bc7b25ca-00b6-4b38-8a9f-94faf34ac533",
   "metadata": {},
   "outputs": [
    {
     "name": "stderr",
     "output_type": "stream",
     "text": [
      "100%|█████████████████████████████████████████████████████████████████████████████| 26.4M/26.4M [00:11<00:00, 2.21MB/s]\n",
      "100%|██████████████████████████████████████████████████████████████████████████████| 29.5k/29.5k [00:00<00:00, 105kB/s]\n",
      "100%|█████████████████████████████████████████████████████████████████████████████| 4.42M/4.42M [00:00<00:00, 5.65MB/s]\n",
      "100%|█████████████████████████████████████████████████████████████████████████████████████| 5.15k/5.15k [00:00<?, ?B/s]\n"
     ]
    }
   ],
   "source": [
    "# 학습 및 테스트 데이터셋 로드\n",
    "train_dataset = datasets.FashionMNIST(root='./data', train=True, transform=transform, download=True)\n",
    "test_dataset = datasets.FashionMNIST(root='./data', train=False, transform=transform, download=True)"
   ]
  },
  {
   "cell_type": "code",
   "execution_count": 11,
   "id": "3fbb0338-0d7a-4600-8a4f-bc48542b3777",
   "metadata": {},
   "outputs": [],
   "source": [
    "# 데이터 로더 생성\n",
    "train_loader = DataLoader(train_dataset, batch_size=64, shuffle=True)\n",
    "test_loader = DataLoader(test_dataset, batch_size=64, shuffle=False)"
   ]
  },
  {
   "cell_type": "code",
   "execution_count": 12,
   "id": "afe5749e-ca9f-4087-a724-a6df47b9b077",
   "metadata": {},
   "outputs": [
    {
     "data": {
      "text/plain": [
       "==========================================================================================\n",
       "Layer (type:depth-idx)                   Output Shape              Param #\n",
       "==========================================================================================\n",
       "Sequential                               [64, 10]                  --\n",
       "├─Conv2d: 1-1                            [64, 16, 28, 28]          160\n",
       "├─ReLU: 1-2                              [64, 16, 28, 28]          --\n",
       "├─MaxPool2d: 1-3                         [64, 16, 14, 14]          --\n",
       "├─Conv2d: 1-4                            [64, 32, 14, 14]          4,640\n",
       "├─ReLU: 1-5                              [64, 32, 14, 14]          --\n",
       "├─MaxPool2d: 1-6                         [64, 32, 7, 7]            --\n",
       "├─Flatten: 1-7                           [64, 1568]                --\n",
       "├─Linear: 1-8                            [64, 128]                 200,832\n",
       "├─ReLU: 1-9                              [64, 128]                 --\n",
       "├─Linear: 1-10                           [64, 10]                  1,290\n",
       "==========================================================================================\n",
       "Total params: 206,922\n",
       "Trainable params: 206,922\n",
       "Non-trainable params: 0\n",
       "Total mult-adds (M): 79.17\n",
       "==========================================================================================\n",
       "Input size (MB): 0.20\n",
       "Forward/backward pass size (MB): 9.70\n",
       "Params size (MB): 0.83\n",
       "Estimated Total Size (MB): 10.73\n",
       "=========================================================================================="
      ]
     },
     "execution_count": 12,
     "metadata": {},
     "output_type": "execute_result"
    }
   ],
   "source": [
    "# Sequential로 모델 정의\n",
    "model = nn.Sequential(\n",
    "    # 첫 번째 Conv + ReLU + MaxPool\n",
    "    nn.Conv2d(in_channels=1, out_channels=16, kernel_size=3, padding=1),\n",
    "    nn.ReLU(),\n",
    "    nn.MaxPool2d(kernel_size=2, stride=2),\n",
    "\n",
    "    # 두 번째 Conv + ReLU + MaxPool\n",
    "    nn.Conv2d(in_channels=16, out_channels=32, kernel_size=3, padding=1),\n",
    "    nn.ReLU(),\n",
    "    nn.MaxPool2d(kernel_size=2, stride=2),\n",
    "\n",
    "    # Flatten\n",
    "    nn.Flatten(),\n",
    "\n",
    "    # 첫 번째 Fully Connected + ReLU\n",
    "    nn.Linear(32 * 7 * 7, 128),\n",
    "    nn.ReLU(),\n",
    "\n",
    "    # 두 번째 Fully Connected (출력층)\n",
    "    nn.Linear(128, 10)\n",
    ")\n",
    "model = model.to(device)\n",
    "summary(model, input_size=(64, 1, 28, 28))  # 배치사이즈, 입력 채널, height, width"
   ]
  },
  {
   "cell_type": "code",
   "execution_count": 17,
   "id": "db35fe58-9ac9-45a8-8d03-18f8ba75c1ba",
   "metadata": {},
   "outputs": [],
   "source": [
    "# nn.Conv2d?"
   ]
  },
  {
   "cell_type": "code",
   "execution_count": 13,
   "id": "021629d7-32c9-41e2-9609-c8c4bef5c65f",
   "metadata": {},
   "outputs": [
    {
     "data": {
      "text/plain": [
       "==========================================================================================\n",
       "Layer (type:depth-idx)                   Output Shape              Param #\n",
       "==========================================================================================\n",
       "CNN                                      [64, 10]                  --\n",
       "├─Conv2d: 1-1                            [64, 16, 28, 28]          160\n",
       "├─ReLU: 1-2                              [64, 16, 28, 28]          --\n",
       "├─MaxPool2d: 1-3                         [64, 16, 14, 14]          --\n",
       "├─Conv2d: 1-4                            [64, 32, 14, 14]          4,640\n",
       "├─ReLU: 1-5                              [64, 32, 14, 14]          --\n",
       "├─MaxPool2d: 1-6                         [64, 32, 7, 7]            --\n",
       "├─Linear: 1-7                            [64, 128]                 200,832\n",
       "├─ReLU: 1-8                              [64, 128]                 --\n",
       "├─Linear: 1-9                            [64, 10]                  1,290\n",
       "==========================================================================================\n",
       "Total params: 206,922\n",
       "Trainable params: 206,922\n",
       "Non-trainable params: 0\n",
       "Total mult-adds (M): 79.17\n",
       "==========================================================================================\n",
       "Input size (MB): 0.20\n",
       "Forward/backward pass size (MB): 9.70\n",
       "Params size (MB): 0.83\n",
       "Estimated Total Size (MB): 10.73\n",
       "=========================================================================================="
      ]
     },
     "execution_count": 13,
     "metadata": {},
     "output_type": "execute_result"
    }
   ],
   "source": [
    "# CNN 모델 정의\n",
    "class CNN(nn.Module):\n",
    "    def __init__(self):\n",
    "        super().__init__()\n",
    "\n",
    "        # 첫 번째 컨볼루션 레이어\n",
    "        # 입력 채널: 1 (흑백 이미지), 출력 채널: 16, 커널 크기: 3x3, 패딩: 1\n",
    "        self.conv1 = nn.Conv2d(in_channels=1, out_channels=16, kernel_size=3, padding=1)\n",
    "\n",
    "        # 두 번째 컨볼루션 레이어\n",
    "        # 입력 채널: 16, 출력 채널: 32, 커널 크기: 3x3, 패딩: 1\n",
    "        self.conv2 = nn.Conv2d(in_channels=16, out_channels=32, kernel_size=3, padding=1)\n",
    "\n",
    "        # MaxPool 레이어 (다운샘플링)\n",
    "        # 커널 크기: 2x2, 스트라이드: 2\n",
    "        self.pool = nn.MaxPool2d(kernel_size=2, stride=2, padding=0)\n",
    "\n",
    "        # 첫 번째 완전 연결 (Fully Connected) 레이어\n",
    "        # 입력 크기: 32 * 7 * 7 (Conv2d 출력을 펼친 크기), 출력 크기: 128\n",
    "        self.fc1 = nn.Linear(32 * 7 * 7, 128)\n",
    "\n",
    "        # 두 번째 완전 연결 레이어\n",
    "        # 입력 크기: 128, 출력 크기: 10 (클래스 개수)\n",
    "        self.fc2 = nn.Linear(128, 10)\n",
    "\n",
    "        # 활성화 함수\n",
    "        self.relu = nn.ReLU()\n",
    "\n",
    "    def forward(self, x):\n",
    "        # 입력 데이터 크기: (batch_size, 1, 28, 28)\n",
    "\n",
    "        # 첫 번째 Conv + ReLU + MaxPool\n",
    "        # Conv 후 크기: (batch_size, 16, 28, 28)\n",
    "        # MaxPool 후 크기: (batch_size, 16, 14, 14)\n",
    "        x = self.pool(self.relu(self.conv1(x)))\n",
    "\n",
    "        # 두 번째 Conv + ReLU + MaxPool\n",
    "        # Conv 후 크기: (batch_size, 32, 14, 14)\n",
    "        # MaxPool 후 크기: (batch_size, 32, 7, 7)\n",
    "        x = self.pool(self.relu(self.conv2(x)))\n",
    "\n",
    "        # Flatten: Conv 출력을 1차원 벡터로 펼침\n",
    "        # Flatten 후 크기: (batch_size, 32 * 7 * 7)\n",
    "        x = x.reshape(-1, 32 * 7 * 7)\n",
    "\n",
    "        # 첫 번째 Fully Connected + ReLU\n",
    "        # 출력 크기: (batch_size, 128)\n",
    "        x = self.relu(self.fc1(x))\n",
    "\n",
    "        # 두 번째 Fully Connected (출력층)\n",
    "        # 출력 크기: (batch_size, 10)\n",
    "        x = self.fc2(x)\n",
    "\n",
    "        return x\n",
    "\n",
    "# 모델 요약 출력\n",
    "model = CNN().to(device)\n",
    "summary(model, input_size=(64, 1, 28, 28))"
   ]
  },
  {
   "cell_type": "code",
   "execution_count": null,
   "id": "d012b516-1d0c-46c5-9f25-d1445c48d8f0",
   "metadata": {},
   "outputs": [],
   "source": [
    "criterion = nn.CrossEntropyLoss()  # 다중 클래스 분류를 위한 손실 함수\n",
    "optimizer = optim.Adam(model.parameters(), lr=0.0001)  # Adam 옵티마이저\n",
    "\n",
    "train_losses = []\n",
    "test_losses = []\n",
    "\n",
    "# 학습 횟수 만큼 반복\n",
    "for epoch in range(10):\n",
    "\n",
    "    # 모델 학습(학습데이터)\n",
    "    train_loss = train(model, train_loader, criterion, optimizer, device)\n",
    "    train_losses.append(train_loss)\n",
    "\n",
    "    # 모델 평가 (평가데이터)\n",
    "    test_loss = evaluate(model, test_loader, criterion, device)\n",
    "    test_losses.append(test_loss)\n",
    "\n",
    "    print(f'Epoch {epoch+1} Train Loss : {train_loss} Test Loss : {test_loss}')"
   ]
  },
  {
   "cell_type": "code",
   "execution_count": 27,
   "id": "80d5fb15-5b06-4f6c-9f4e-b68c20b0d4ec",
   "metadata": {},
   "outputs": [
    {
     "data": {
      "text/plain": [
       "==========================================================================================\n",
       "Layer (type:depth-idx)                   Output Shape              Param #\n",
       "==========================================================================================\n",
       "Sequential                               [64, 10]                  --\n",
       "├─Conv2d: 1-1                            [64, 16, 32, 32]          448\n",
       "├─ReLU: 1-2                              [64, 16, 32, 32]          --\n",
       "├─MaxPool2d: 1-3                         [64, 16, 16, 16]          --\n",
       "├─Conv2d: 1-4                            [64, 32, 16, 16]          4,640\n",
       "├─ReLU: 1-5                              [64, 32, 16, 16]          --\n",
       "├─MaxPool2d: 1-6                         [64, 32, 8, 8]            --\n",
       "├─Conv2d: 1-7                            [64, 64, 8, 8]            18,496\n",
       "├─ReLU: 1-8                              [64, 64, 8, 8]            --\n",
       "├─MaxPool2d: 1-9                         [64, 64, 4, 4]            --\n",
       "├─Flatten: 1-10                          [64, 1024]                --\n",
       "├─Linear: 1-11                           [64, 128]                 131,200\n",
       "├─ReLU: 1-12                             [64, 128]                 --\n",
       "├─Linear: 1-13                           [64, 10]                  1,290\n",
       "==========================================================================================\n",
       "Total params: 156,074\n",
       "Trainable params: 156,074\n",
       "Non-trainable params: 0\n",
       "Total mult-adds (M): 189.62\n",
       "==========================================================================================\n",
       "Input size (MB): 0.79\n",
       "Forward/backward pass size (MB): 14.75\n",
       "Params size (MB): 0.62\n",
       "Estimated Total Size (MB): 16.16\n",
       "=========================================================================================="
      ]
     },
     "execution_count": 27,
     "metadata": {},
     "output_type": "execute_result"
    }
   ],
   "source": [
    "# 이 모델은 이미지 분류를 위한 CNN 모델로, 세 개의 합성곱층(Convolutional Layer)과 완전 연결층(Fully Connected Layer)으로 구성됩니다.\n",
    "# 입력 데이터는 (배치 크기, 3, 32, 32) 형태를 가지며, 다음과 같은 단계로 설계됩니다.\n",
    "\n",
    "model = nn.Sequential(\n",
    "    # 1. 첫 번째 합성곱층:\n",
    "    #    - 입력 채널: 3 (RGB 이미지)\n",
    "    #    - 출력 채널: 16\n",
    "    #    - 커널 크기: 3x3\n",
    "    #    - 패딩: 1 (출력 크기가 입력 크기와 동일하게 유지되도록 설정)\n",
    "    #    - 비선형성을 부여하기 위해 ReLU 활성화a 함수 추가\n",
    "    #    - 공간 해상도를 축소하기 위해 Max Pooling 레이어 추가 (커널 크기 2x2, 스트라이드 2)\n",
    "    nn.Conv2d(in_channels=3, out_channels=16, kernel_size=3, padding=1),\n",
    "    nn.ReLU(),\n",
    "    nn.MaxPool2d(kernel_size=2, stride=2),\n",
    "\n",
    "    # 2. 두 번째 합성곱층:\n",
    "    #    - 입력 채널: 16\n",
    "    #    - 출력 채널: 32\n",
    "    #    - 커널 크기: 3x3\n",
    "    #    - 패딩: 1\n",
    "    #    - 활성화 함수로 ReLU 적용\n",
    "    #    - Max Pooling 레이어 추가 (커널 크기 2x2, 스트라이드 2)\n",
    "    nn.Conv2d(in_channels=16, out_channels=32, kernel_size=3, padding=1),\n",
    "    nn.ReLU(),\n",
    "    nn.MaxPool2d(kernel_size=2, stride=2),\n",
    "\n",
    "    # 3. 세 번째 합성곱층:\n",
    "    #    - 입력 채널: 32\n",
    "    #    - 출력 채널: 64\n",
    "    #    - 커널 크기: 3x3\n",
    "    #    - 패딩: 1\n",
    "    #    - ReLU 활성화 함수 적용\n",
    "    #    - Max Pooling 레이어 추가 (커널 크기 2x2, 스트라이드 2)\n",
    "    nn.Conv2d(in_channels=32, out_channels=64, kernel_size=3, padding=1),\n",
    "    nn.ReLU(),\n",
    "    nn.MaxPool2d(kernel_size=2, stride=2),\n",
    "\n",
    "    # 4. Flatten 레이어:\n",
    "    #    - 다차원 텐서를 이차원 텐서로 변환\n",
    "    #    - Conv 레이어와 Max Pooling을 거친 후 (배치 크기, 64, 4, 4) 형태의 텐서를 이차원 텐서로 변환 변환하여 fully connected layer에 입력\n",
    "    nn.Flatten(),\n",
    "\n",
    "    # 5. 첫 번째 완전 연결층:\n",
    "    #    - Conv 레이어 출력을 128차원 출력으로 변환\n",
    "    #    - ReLU 활성화 함수 추가\n",
    "    nn.Linear(64 * 4 * 4, 128),\n",
    "    nn.ReLU(),\n",
    "\n",
    "    # 6. 최종 출력층:\n",
    "    #    - 10개의 클래스로 분류 (활성화 함수는 분류 목적에 따라 추가 설정 가능)\n",
    "    nn.Linear(128, 10)\n",
    ")\n",
    "\n",
    "model = model.to(device)\n",
    "summary(model, input_size=(64, 3, 32, 32))"
   ]
  },
  {
   "cell_type": "code",
   "execution_count": 35,
   "id": "9d3545ba-45d5-4c86-80e7-30b7f424c4c4",
   "metadata": {},
   "outputs": [
    {
     "data": {
      "text/plain": [
       "==========================================================================================\n",
       "Layer (type:depth-idx)                   Output Shape              Param #\n",
       "==========================================================================================\n",
       "CNN                                      [64, 2]                   --\n",
       "├─Conv2d: 1-1                            [64, 256, 224, 224]       7,168\n",
       "├─ReLU: 1-2                              [64, 256, 224, 224]       --\n",
       "├─MaxPool2d: 1-3                         [64, 256, 112, 112]       --\n",
       "├─Conv2d: 1-4                            [64, 128, 112, 112]       295,040\n",
       "├─ReLU: 1-5                              [64, 128, 112, 112]       --\n",
       "├─MaxPool2d: 1-6                         [64, 128, 56, 56]         --\n",
       "├─Conv2d: 1-7                            [64, 64, 56, 56]          73,792\n",
       "├─ReLU: 1-8                              [64, 64, 56, 56]          --\n",
       "├─MaxPool2d: 1-9                         [64, 64, 28, 28]          --\n",
       "├─Conv2d: 1-10                           [64, 32, 28, 28]          18,464\n",
       "├─ReLU: 1-11                             [64, 32, 28, 28]          --\n",
       "├─MaxPool2d: 1-12                        [64, 32, 14, 14]          --\n",
       "├─Flatten: 1-13                          [64, 6272]                --\n",
       "├─Linear: 1-14                           [64, 256]                 1,605,888\n",
       "├─ReLU: 1-15                             [64, 256]                 --\n",
       "├─Linear: 1-16                           [64, 2]                   514\n",
       "├─Sigmoid: 1-17                          [64, 2]                   --\n",
       "==========================================================================================\n",
       "Total params: 2,000,866\n",
       "Trainable params: 2,000,866\n",
       "Non-trainable params: 0\n",
       "Total mult-adds (G): 275.72\n",
       "==========================================================================================\n",
       "Input size (MB): 38.54\n",
       "Forward/backward pass size (MB): 7514.49\n",
       "Params size (MB): 8.00\n",
       "Estimated Total Size (MB): 7561.03\n",
       "=========================================================================================="
      ]
     },
     "execution_count": 35,
     "metadata": {},
     "output_type": "execute_result"
    }
   ],
   "source": [
    "# CNN 모델 설계 가이드\n",
    "\n",
    "# 이 모델은 이미지 분류를 위한 CNN 모델로, 네 개의 합성곱층(Convolutional Layer)과 풀링층(Max Pooling Layer),\n",
    "# 그리고 두 개의 완전 연결층(Fully Connected Layer)으로 구성됩니다.\n",
    "# 입력 데이터는 (배치 크기, 3, 224, 224) 형태를 가지며, 다음과 같은 단계로 설계됩니다.\n",
    "\n",
    "# 1. 첫 번째 합성곱층:\n",
    "#    - 입력 채널: 3 (RGB 이미지)\n",
    "#    - 출력 채널: 256\n",
    "#    - 커널 크기: 3x3\n",
    "#    - 패딩: 1 (출력 크기를 입력 크기와 동일하게 유지)\n",
    "#    - 활성화 함수: ReLU를 사용하여 비선형성 부여\n",
    "#    - 첫 번째 풀링층: 커널 크기 2x2, 스트라이드 2를 사용하여 공간 해상도를 절반으로 줄임 (출력 크기: (112, 112))\n",
    "\n",
    "# 2. 두 번째 합성곱층:\n",
    "#    - 입력 채널: 256\n",
    "#    - 출력 채널: 128\n",
    "#    - 커널 크기: 3x3\n",
    "#    - 패딩: 1\n",
    "#    - 활성화 함수: ReLU 사용\n",
    "#    - 두 번째 풀링층: 커널 크기 2x2, 스트라이드 2를 사용하여 공간 해상도를 절반으로 줄임 (출력 크기: (56, 56))\n",
    "\n",
    "# 3. 세 번째 합성곱층:\n",
    "#    - 입력 채널: 128\n",
    "#    - 출력 채널: 64\n",
    "#    - 커널 크기: 3x3\n",
    "#    - 패딩: 1\n",
    "#    - 활성화 함수: ReLU 사용\n",
    "#    - 세 번째 풀링층: 커널 크기 2x2, 스트라이드 2를 사용하여 공간 해상도를 절반으로 줄임 (출력 크기: (28, 28))\n",
    "\n",
    "# 4. 네 번째 합성곱층:\n",
    "#    - 입력 채널: 64\n",
    "#    - 출력 채널: 32\n",
    "#    - 커널 크기: 3x3\n",
    "#    - 패딩: 1\n",
    "#    - 활성화 함수: ReLU 사용\n",
    "#    - 네 번째 풀링층: 커널 크기 2x2, 스트라이드 2를 사용하여 공간 해상도를 절반으로 줄임 (출력 크기: (14, 14))\n",
    "\n",
    "# 5. Flatten 레이어:\n",
    "#    - 네 번째 풀링 이후의 다차원 텐서를 이차원 텐서로 변환하여 fully connected layer에 입력\n",
    "#    - Conv 레이어와 풀링층을 거친 후 (32, 14, 14) 형태의 텐서를 이차원 텐서로 변환\n",
    "\n",
    "# 6. 첫 번째 완전 연결층:\n",
    "#    - Conv 레이어 출력을 낮은 차원(256)으로 줄임\n",
    "#    - 활성화 함수: ReLU 사용\n",
    "\n",
    "# 7. 두 번째 완전 연결층:\n",
    "#    - 최종적으로 두 개의 클래스로 분류\n",
    "\n",
    "\n",
    "# CNN 모델 정의\n",
    "class CNN(nn.Module):\n",
    "    def __init__(self):\n",
    "        super().__init__()\n",
    "        self.conv1 = nn.Conv2d(in_channels=3, out_channels=256, kernel_size=3, padding=1)\n",
    "        self.conv2 = nn.Conv2d(in_channels=256, out_channels=128, kernel_size=3, padding=1)\n",
    "        self.conv3 = nn.Conv2d(in_channels=128, out_channels=64, kernel_size=3, padding=1)\n",
    "        self.conv4 = nn.Conv2d(in_channels=64, out_channels=32, kernel_size=3, padding=1)    \n",
    "        self.pool = nn.MaxPool2d(kernel_size=2, stride=2, padding=0)\n",
    "        self.fc1 = nn.Linear(32* 14 * 14, 256)\n",
    "        self.fc2 = nn.Linear(256, 2)\n",
    "        \n",
    "        self.flatten = nn.Flatten()\n",
    "        self.relu = nn.ReLU()\n",
    "        self.sigmoid = nn.Sigmoid()\n",
    "\n",
    "\n",
    "    def forward(self, x):\n",
    "        x = self.pool(self.relu(self.conv1(x)))\n",
    "        x = self.pool(self.relu(self.conv2(x)))\n",
    "        x = self.pool(self.relu(self.conv3(x)))\n",
    "        x = self.pool(self.relu(self.conv4(x)))\n",
    "        x = self.flatten(x)\n",
    "\n",
    "        x = self.relu(self.fc1(x))\n",
    "        x = self.fc2(x)\n",
    "        x = self.sigmoid(x)\n",
    "        \n",
    "        return x\n",
    "\n",
    "model = CNN().to(device)\n",
    "summary(model, input_size=(64, 3, 224, 224))"
   ]
  },
  {
   "cell_type": "markdown",
   "id": "62c92c5b-4a4f-4b0a-8a60-10929e697803",
   "metadata": {},
   "source": [
    "## 전이학습"
   ]
  },
  {
   "cell_type": "code",
   "execution_count": 37,
   "id": "1f3f80f5-e190-436a-8b94-613ab906fc9e",
   "metadata": {},
   "outputs": [
    {
     "name": "stdout",
     "output_type": "stream",
     "text": [
      "Pretrained weights loaded successfully on cpu.\n"
     ]
    },
    {
     "data": {
      "text/plain": [
       "==========================================================================================\n",
       "Layer (type:depth-idx)                   Output Shape              Param #\n",
       "==========================================================================================\n",
       "CNNModel                                 [64, 10]                  --\n",
       "├─Sequential: 1-1                        [64, 32, 7, 7]            --\n",
       "│    └─Conv2d: 2-1                       [64, 16, 28, 28]          160\n",
       "│    └─ReLU: 2-2                         [64, 16, 28, 28]          --\n",
       "│    └─Conv2d: 2-3                       [64, 16, 28, 28]          2,320\n",
       "│    └─ReLU: 2-4                         [64, 16, 28, 28]          --\n",
       "│    └─MaxPool2d: 2-5                    [64, 16, 14, 14]          --\n",
       "│    └─Conv2d: 2-6                       [64, 32, 14, 14]          4,640\n",
       "│    └─ReLU: 2-7                         [64, 32, 14, 14]          --\n",
       "│    └─Conv2d: 2-8                       [64, 32, 14, 14]          9,248\n",
       "│    └─ReLU: 2-9                         [64, 32, 14, 14]          --\n",
       "│    └─MaxPool2d: 2-10                   [64, 32, 7, 7]            --\n",
       "├─Sequential: 1-2                        [64, 10]                  --\n",
       "│    └─Linear: 2-11                      [64, 128]                 200,832\n",
       "│    └─ReLU: 2-12                        [64, 128]                 --\n",
       "│    └─Linear: 2-13                      [64, 10]                  1,290\n",
       "==========================================================================================\n",
       "Total params: 218,490\n",
       "Trainable params: 218,490\n",
       "Non-trainable params: 0\n",
       "Total mult-adds (M): 311.58\n",
       "==========================================================================================\n",
       "Input size (MB): 0.20\n",
       "Forward/backward pass size (MB): 19.34\n",
       "Params size (MB): 0.87\n",
       "Estimated Total Size (MB): 20.41\n",
       "=========================================================================================="
      ]
     },
     "execution_count": 37,
     "metadata": {},
     "output_type": "execute_result"
    }
   ],
   "source": [
    "# JAEN 패키지에서 CNN 모델 가져오기\n",
    "from JAEN.models import CNNModel\n",
    "\n",
    "# CNN 모델 불러오기 (pretrained=True)\n",
    "model = CNNModel(pretrained=True)\n",
    "\n",
    "# 모델 정보 확인\n",
    "summary(model, (64, 1, 28, 28))"
   ]
  },
  {
   "cell_type": "code",
   "execution_count": 38,
   "id": "cc435b2b-3ed6-4c8c-bbf6-300f00ccb8ea",
   "metadata": {},
   "outputs": [],
   "source": [
    "# 기존 Conv Block 동결\n",
    "for param in model.conv_layers.parameters():  # 가중치 Tensor의 미분 기능 off\n",
    "    param.requires_grad = False"
   ]
  },
  {
   "cell_type": "code",
   "execution_count": 39,
   "id": "329959a9-ea1a-4106-a28b-3887e143df39",
   "metadata": {},
   "outputs": [
    {
     "data": {
      "text/plain": [
       "==========================================================================================\n",
       "Layer (type:depth-idx)                   Output Shape              Param #\n",
       "==========================================================================================\n",
       "CNNModel                                 [64, 10]                  --\n",
       "├─Sequential: 1-1                        [64, 32, 7, 7]            --\n",
       "│    └─Conv2d: 2-1                       [64, 16, 28, 28]          (160)\n",
       "│    └─ReLU: 2-2                         [64, 16, 28, 28]          --\n",
       "│    └─Conv2d: 2-3                       [64, 16, 28, 28]          (2,320)\n",
       "│    └─ReLU: 2-4                         [64, 16, 28, 28]          --\n",
       "│    └─MaxPool2d: 2-5                    [64, 16, 14, 14]          --\n",
       "│    └─Conv2d: 2-6                       [64, 32, 14, 14]          (4,640)\n",
       "│    └─ReLU: 2-7                         [64, 32, 14, 14]          --\n",
       "│    └─Conv2d: 2-8                       [64, 32, 14, 14]          (9,248)\n",
       "│    └─ReLU: 2-9                         [64, 32, 14, 14]          --\n",
       "│    └─MaxPool2d: 2-10                   [64, 32, 7, 7]            --\n",
       "├─Sequential: 1-2                        [64, 10]                  --\n",
       "│    └─Linear: 2-11                      [64, 64]                  100,416\n",
       "│    └─ReLU: 2-12                        [64, 64]                  --\n",
       "│    └─Dropout: 2-13                     [64, 64]                  --\n",
       "│    └─Linear: 2-14                      [64, 10]                  650\n",
       "==========================================================================================\n",
       "Total params: 117,434\n",
       "Trainable params: 101,066\n",
       "Non-trainable params: 16,368\n",
       "Total mult-adds (M): 305.12\n",
       "==========================================================================================\n",
       "Input size (MB): 0.20\n",
       "Forward/backward pass size (MB): 19.31\n",
       "Params size (MB): 0.47\n",
       "Estimated Total Size (MB): 19.98\n",
       "=========================================================================================="
      ]
     },
     "execution_count": 39,
     "metadata": {},
     "output_type": "execute_result"
    }
   ],
   "source": [
    "# 새로운 Fully Connected Block 설정\n",
    "model.fc_layers = nn.Sequential(\n",
    "    nn.Linear(32 * 7 * 7, 64),  # 첫 번째 은닉층\n",
    "    nn.ReLU(),\n",
    "    nn.Dropout(p=0.5),           # 드롭아웃 추가\n",
    "    nn.Linear(64, 10)           # 출력층 (활성화 함수 없음)\n",
    ")\n",
    "\n",
    "# 디바이스 설정 (GPU 또는 CPU)\n",
    "model = model.to(device)\n",
    "# summary에 소괄호가 씌워진 것은 미분 기능이 꺼졌다는 것을 의미한다.\n",
    "summary(model, input_size=(64, 1, 28, 28))"
   ]
  },
  {
   "cell_type": "code",
   "execution_count": 40,
   "id": "6e631709-b294-41a6-b1db-b89a7ce3c6ca",
   "metadata": {},
   "outputs": [
    {
     "name": "stdout",
     "output_type": "stream",
     "text": [
      "Epoch 1 Train Loss : None Test Loss : 0.5366939017727117\n",
      "Epoch 2 Train Loss : None Test Loss : 0.45639643756447323\n",
      "Epoch 3 Train Loss : None Test Loss : 0.4199908194458409\n",
      "Epoch 4 Train Loss : None Test Loss : 0.39859589061159995\n",
      "Epoch 5 Train Loss : None Test Loss : 0.3825043840393139\n",
      "Epoch 6 Train Loss : None Test Loss : 0.37211334392143663\n",
      "Epoch 7 Train Loss : None Test Loss : 0.36255854377701024\n",
      "Epoch 9 Train Loss : None Test Loss : 0.3495294203044503\n",
      "Epoch 10 Train Loss : None Test Loss : 0.34222525880215277\n"
     ]
    }
   ],
   "source": [
    "criterion = nn.CrossEntropyLoss()  # 다중 클래스 분류를 위한 손실 함수\n",
    "optimizer = optim.Adam(model.parameters(), lr=0.0001)  # Adam 옵티마이저\n",
    "\n",
    "train_losses = []\n",
    "test_losses = []\n",
    "\n",
    "# 학습 횟수 만큼 반복\n",
    "for epoch in range(10):\n",
    "\n",
    "    # 모델 학습(학습데이터)\n",
    "    train_loss = train(model, train_loader, criterion, optimizer, device)\n",
    "    train_losses.append(train_loss)\n",
    "\n",
    "    # 모델 평가 (평가데이터)\n",
    "    test_loss = evaluate(model, test_loader, criterion, device)\n",
    "    test_losses.append(test_loss)\n",
    "\n",
    "    print(f'Epoch {epoch+1} Train Loss : {train_loss} Test Loss : {test_loss}')"
   ]
  },
  {
   "cell_type": "code",
   "execution_count": null,
   "id": "8f7f351d-cb49-4761-aa1f-bfc4afaaaabb",
   "metadata": {},
   "outputs": [],
   "source": [
    "# 마지막 두 Conv 레이어만 학습하도록 설정\n",
    "for name, p in model.conv_layers.named_parameters():\n",
    "    if name in ['5.weight', '5.bias', '7.weight', '7.bias']:\n",
    "        p.requires_grad = True"
   ]
  },
  {
   "cell_type": "code",
   "execution_count": null,
   "id": "d3d22f84-4aa6-414c-94e8-36e14ddf2387",
   "metadata": {},
   "outputs": [
    {
     "name": "stdout",
     "output_type": "stream",
     "text": [
      "Epoch 1 Train Loss : None Test Loss : 0.3273341749693937\n",
      "Epoch 2 Train Loss : None Test Loss : 0.31804454336120824\n",
      "Epoch 3 Train Loss : None Test Loss : 0.31597295095017003\n"
     ]
    }
   ],
   "source": [
    "criterion = nn.CrossEntropyLoss()  # 다중 클래스 분류를 위한 손실 함수\n",
    "optimizer = optim.Adam(model.parameters(), lr=0.0001)  # Adam 옵티마이저\n",
    "\n",
    "train_losses = []\n",
    "test_losses = []\n",
    "\n",
    "# 학습 횟수 만큼 반복\n",
    "for epoch in range(10):\n",
    "\n",
    "    # 모델 학습(학습데이터)\n",
    "    train_loss = train(model, train_loader, criterion, optimizer, device)\n",
    "    train_losses.append(train_loss)\n",
    "\n",
    "    # 모델 평가 (평가데이터)\n",
    "    test_loss = evaluate(model, test_loader, criterion, device)\n",
    "    test_losses.append(test_loss)\n",
    "\n",
    "    print(f'Epoch {epoch+1} Train Loss : {train_loss} Test Loss : {test_loss}')"
   ]
  },
  {
   "cell_type": "code",
   "execution_count": null,
   "id": "7848738a-3ef3-4bb6-aa61-be00c0d6c933",
   "metadata": {},
   "outputs": [],
   "source": []
  }
 ],
 "metadata": {
  "kernelspec": {
   "display_name": "AI",
   "language": "python",
   "name": "ai"
  },
  "language_info": {
   "codemirror_mode": {
    "name": "ipython",
    "version": 3
   },
   "file_extension": ".py",
   "mimetype": "text/x-python",
   "name": "python",
   "nbconvert_exporter": "python",
   "pygments_lexer": "ipython3",
   "version": "3.10.16"
  }
 },
 "nbformat": 4,
 "nbformat_minor": 5
}
