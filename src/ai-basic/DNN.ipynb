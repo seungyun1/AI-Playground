{
 "cells": [
  {
   "cell_type": "code",
   "execution_count": 3,
   "id": "d4fbe5cd-98f6-4f87-9fe2-5149d0b4597b",
   "metadata": {},
   "outputs": [],
   "source": [
    "%%capture\n",
    "!pip install JAEN -qU"
   ]
  },
  {
   "cell_type": "code",
   "execution_count": 8,
   "id": "248b6739-6a6e-4ada-a77c-a5f3b346ba00",
   "metadata": {},
   "outputs": [
    {
     "data": {
      "text/plain": [
       "device(type='cpu')"
      ]
     },
     "execution_count": 8,
     "metadata": {},
     "output_type": "execute_result"
    }
   ],
   "source": [
    "import torch\n",
    "import torch.nn as nn\n",
    "import torch.optim as optim\n",
    "from torchvision import datasets, transforms\n",
    "from torch.utils.data import DataLoader\n",
    "from torchinfo import summary\n",
    "from JAEN.utils import plot_training_results\n",
    "\n",
    "# device 설정 (GPU가 사용 가능하면 GPU로, 그렇지 않으면 CPU 사용)\n",
    "device = torch.device('cuda' if torch.cuda.is_available() else 'cpu')\n",
    "device"
   ]
  },
  {
   "cell_type": "code",
   "execution_count": 46,
   "id": "46d58c3f-ff3d-47d1-8d92-5c8b87ccc78f",
   "metadata": {},
   "outputs": [
    {
     "name": "stdout",
     "output_type": "stream",
     "text": [
      "<torch.utils.data.dataloader.DataLoader object at 0x000001C6D56F6500>\n",
      "<torch.utils.data.dataloader.DataLoader object at 0x000001C6D56F7190>\n"
     ]
    }
   ],
   "source": [
    "import os\n",
    "\n",
    "# JAEN 모듈 불러오기\n",
    "from JAEN.datasets import load_titanic\n",
    "\n",
    "# 데이터 파일이 저장된 경로 찾기\n",
    "jaen_path = os.path.dirname(load_titanic.__code__.co_filename)\n",
    "train_path = os.path.join(jaen_path, \"data\", \"00\", \"train_loader.pt\")\n",
    "test_path = os.path.join(jaen_path, \"data\", \"00\", \"test_loader.pt\")\n",
    "\n",
    "# torch.load()를 직접 실행 (weights_only=False 설정)\n",
    "train_loader = torch.load(train_path, weights_only=False)\n",
    "test_loader = torch.load(test_path, weights_only=False)\n",
    "\n",
    "# 데이터 확인\n",
    "print(train_loader)\n",
    "print(test_loader)\n"
   ]
  },
  {
   "cell_type": "code",
   "execution_count": 18,
   "id": "10808317-1de6-4e83-9516-5f8897092ee8",
   "metadata": {},
   "outputs": [
    {
     "data": {
      "text/plain": [
       "==========================================================================================\n",
       "Layer (type:depth-idx)                   Output Shape              Param #\n",
       "==========================================================================================\n",
       "Sequential                               [32, 1]                   --\n",
       "├─Linear: 1-1                            [32, 32]                  256\n",
       "├─ReLU: 1-2                              [32, 32]                  --\n",
       "├─Linear: 1-3                            [32, 1]                   33\n",
       "├─Sigmoid: 1-4                           [32, 1]                   --\n",
       "==========================================================================================\n",
       "Total params: 289\n",
       "Trainable params: 289\n",
       "Non-trainable params: 0\n",
       "Total mult-adds (M): 0.01\n",
       "==========================================================================================\n",
       "Input size (MB): 0.00\n",
       "Forward/backward pass size (MB): 0.01\n",
       "Params size (MB): 0.00\n",
       "Estimated Total Size (MB): 0.01\n",
       "=========================================================================================="
      ]
     },
     "execution_count": 18,
     "metadata": {},
     "output_type": "execute_result"
    }
   ],
   "source": [
    "model = nn.Sequential(\n",
    "    nn.Linear(7, 32),\n",
    "    nn.ReLU(),\n",
    "    nn.Linear(32, 1),\n",
    "    nn.Sigmoid()\n",
    ")\n",
    "\n",
    "# 모델 인스턴스 생성\n",
    "model = model.to(device)\n",
    "summary(model, (32, 7))\n",
    "\n",
    "# 32 → 한 번에 모델에 입력하는 샘플 개수 (Batch Size)\n",
    "# 7 → 각 샘플의 특성(feature) 개수"
   ]
  },
  {
   "cell_type": "markdown",
   "id": "e9ca9d01-e692-43c7-8885-a3d9d55d5b6a",
   "metadata": {},
   "source": [
    " "
   ]
  },
  {
   "cell_type": "markdown",
   "id": "1080423e-a6fb-4518-8988-455a9085ba1e",
   "metadata": {},
   "source": [
    "## nn.Module 기반 신경망 모델 구성"
   ]
  },
  {
   "cell_type": "code",
   "execution_count": 16,
   "id": "4a9c6d06-44ef-44f1-85d1-6c3c321f3b13",
   "metadata": {
    "scrolled": true
   },
   "outputs": [
    {
     "data": {
      "text/plain": [
       "==========================================================================================\n",
       "Layer (type:depth-idx)                   Output Shape              Param #\n",
       "==========================================================================================\n",
       "DNN                                      [32, 1]                   --\n",
       "├─Linear: 1-1                            [32, 32]                  96\n",
       "├─ReLU: 1-2                              [32, 32]                  --\n",
       "├─Linear: 1-3                            [32, 1]                   33\n",
       "├─Sigmoid: 1-4                           [32, 1]                   --\n",
       "==========================================================================================\n",
       "Total params: 129\n",
       "Trainable params: 129\n",
       "Non-trainable params: 0\n",
       "Total mult-adds (M): 0.00\n",
       "==========================================================================================\n",
       "Input size (MB): 0.00\n",
       "Forward/backward pass size (MB): 0.01\n",
       "Params size (MB): 0.00\n",
       "Estimated Total Size (MB): 0.01\n",
       "=========================================================================================="
      ]
     },
     "execution_count": 16,
     "metadata": {},
     "output_type": "execute_result"
    }
   ],
   "source": [
    "class DNN(nn.Module):\n",
    "    def __init__(self):\n",
    "        super().__init__()\n",
    "        self.fc1 = nn.Linear(2, 32)\n",
    "        self.fc2 = nn.Linear(32, 1)\n",
    "        self.relu = nn.ReLU()\n",
    "        self.sigmoid = nn.Sigmoid()\n",
    "\n",
    "    def forward(self, x):\n",
    "        x = self.relu(self.fc1(x))\n",
    "        x = self.fc2(x)\n",
    "        x = self.sigmoid(x)\n",
    "        return x\n",
    "\n",
    "# 모델 인스턴스 생성\n",
    "model = DNN().to(device)\n",
    "summary(model, (32, 2))"
   ]
  },
  {
   "cell_type": "code",
   "execution_count": 17,
   "id": "cde3f0c1-eff0-4bba-98ff-668e10452651",
   "metadata": {},
   "outputs": [
    {
     "data": {
      "text/plain": [
       "tensor([0.4591], grad_fn=<SigmoidBackward0>)"
      ]
     },
     "execution_count": 17,
     "metadata": {},
     "output_type": "execute_result"
    }
   ],
   "source": [
    "X = torch.tensor([1.0, 2.0])\n",
    "model.forward(X)"
   ]
  },
  {
   "cell_type": "code",
   "execution_count": 19,
   "id": "6accbcc7-249a-402c-8578-75375b370324",
   "metadata": {},
   "outputs": [
    {
     "data": {
      "text/plain": [
       "==========================================================================================\n",
       "Layer (type:depth-idx)                   Output Shape              Param #\n",
       "==========================================================================================\n",
       "DNN                                      [32, 1]                   --\n",
       "├─Linear: 1-1                            [32, 32]                  256\n",
       "├─ReLU: 1-2                              [32, 32]                  --\n",
       "├─Linear: 1-3                            [32, 1]                   33\n",
       "├─Sigmoid: 1-4                           [32, 1]                   --\n",
       "==========================================================================================\n",
       "Total params: 289\n",
       "Trainable params: 289\n",
       "Non-trainable params: 0\n",
       "Total mult-adds (M): 0.01\n",
       "==========================================================================================\n",
       "Input size (MB): 0.00\n",
       "Forward/backward pass size (MB): 0.01\n",
       "Params size (MB): 0.00\n",
       "Estimated Total Size (MB): 0.01\n",
       "=========================================================================================="
      ]
     },
     "execution_count": 19,
     "metadata": {},
     "output_type": "execute_result"
    }
   ],
   "source": [
    "class DNN(nn.Module):\n",
    "    def __init__(self):\n",
    "        super().__init__()\n",
    "        self.fc1 = nn.Linear(7, 32)\n",
    "        self.fc2 = nn.Linear(32, 1)\n",
    "        self.relu = nn.ReLU()\n",
    "        self.sigmoid = nn.Sigmoid()\n",
    "\n",
    "    def forward(self, x):\n",
    "        x = self.relu(self.fc1(x))\n",
    "        x = self.fc2(x)\n",
    "        x = self.sigmoid(x)\n",
    "        return x\n",
    "\n",
    "# 모델 인스턴스 생성\n",
    "model = DNN().to(device)\n",
    "summary(model, (32, 7))"
   ]
  },
  {
   "cell_type": "markdown",
   "id": "a76b3d52-fc67-442d-86c8-7514ca326c0d",
   "metadata": {},
   "source": [
    "## 모델 학습 코드"
   ]
  },
  {
   "cell_type": "code",
   "execution_count": 35,
   "id": "a723ec4b-c292-42ad-9f51-71c51173ba30",
   "metadata": {},
   "outputs": [],
   "source": [
    "X, y = list(train_loader)[0]"
   ]
  },
  {
   "cell_type": "code",
   "execution_count": 36,
   "id": "b66dacbd-85cb-499b-a3c4-69f4a272361a",
   "metadata": {},
   "outputs": [
    {
     "data": {
      "text/plain": [
       "(torch.Size([32, 7]), torch.Size([32, 1]))"
      ]
     },
     "execution_count": 36,
     "metadata": {},
     "output_type": "execute_result"
    }
   ],
   "source": [
    "X.shape, y.shape"
   ]
  },
  {
   "cell_type": "code",
   "execution_count": 38,
   "id": "01bc1b35-292c-4f5e-9997-6b00d262c0de",
   "metadata": {},
   "outputs": [],
   "source": [
    "criterion = nn.BCELoss() # 손실 함수\n",
    "optimizer = optim.Adam(model.parameters(), lr=0.01) # 옵티마이저"
   ]
  },
  {
   "cell_type": "code",
   "execution_count": 39,
   "id": "00667ff3-e2d5-451d-9970-5336a61b1cd7",
   "metadata": {},
   "outputs": [
    {
     "data": {
      "text/plain": [
       "torch.Size([32, 1])"
      ]
     },
     "execution_count": 39,
     "metadata": {},
     "output_type": "execute_result"
    }
   ],
   "source": [
    "outputs = model(X) # 순전파\n",
    "outputs.shape"
   ]
  },
  {
   "cell_type": "code",
   "execution_count": 41,
   "id": "e3576014-82fc-4262-9fba-ed13961446e5",
   "metadata": {},
   "outputs": [
    {
     "data": {
      "text/plain": [
       "tensor(0.7176, grad_fn=<BinaryCrossEntropyBackward0>)"
      ]
     },
     "execution_count": 41,
     "metadata": {},
     "output_type": "execute_result"
    }
   ],
   "source": [
    "loss = criterion(outputs, y) # 손실 계산\n",
    "loss"
   ]
  },
  {
   "cell_type": "code",
   "execution_count": 42,
   "id": "4458607f-7e5d-4fd2-a43c-843f2916bbd3",
   "metadata": {},
   "outputs": [],
   "source": [
    "loss.backward() # 역전파"
   ]
  },
  {
   "cell_type": "code",
   "execution_count": 43,
   "id": "481e1706-c1bf-467f-a08f-a13fe0b28f83",
   "metadata": {},
   "outputs": [],
   "source": [
    "optimizer.step() # 가중치(파라미터) 업데이트"
   ]
  },
  {
   "cell_type": "markdown",
   "id": "c01df457-0b09-4ada-b4aa-82ce8baad202",
   "metadata": {},
   "source": [
    "#### 모델 학습 함수 구현"
   ]
  },
  {
   "cell_type": "code",
   "execution_count": 45,
   "id": "d603db10-dd33-445c-8e3d-7af6a8d94f72",
   "metadata": {},
   "outputs": [],
   "source": [
    "def train(model, train_loader, criterion, optimizer, device):\n",
    "    model.train()  # 모델을 학습모드로 설정\n",
    "    \n",
    "    running_loss = 0.0  # 미니 배치 별 loss 값을 누적할 변수\n",
    "\n",
    "    for data, labels in train_loader: # 미니 배치 별 파라미터 업데이트 수행\n",
    "        data, labels = data.to(device), labels.to(device)  # 미니 배치 별 데이터와 레이블 장치 할당\n",
    "\n",
    "        # 순전파\n",
    "        outputs = model(data)\n",
    "\n",
    "        # 손실 계산\n",
    "        loss = criterion(outputs, labels)\n",
    "\n",
    "        # 기울기 초기화\n",
    "        optimizer.zero_grad()\n",
    "\n",
    "        # 역전파\n",
    "        loss.backward()\n",
    "\n",
    "        # 파라미터 업데이트\n",
    "        optimizer.step()\n",
    "\n",
    "        # 손실 누적\n",
    "        running_loss += loss.item()\n",
    "\n",
    "    # 현재 Epoch의 평균 손실 값 계산 및 반환\n",
    "    return running_loss / len(train_loader)"
   ]
  },
  {
   "cell_type": "markdown",
   "id": "d267ee96-d552-4ebe-9c22-dd0246d04fab",
   "metadata": {},
   "source": [
    "#### 모델 평가 함수 구현"
   ]
  },
  {
   "cell_type": "code",
   "execution_count": 47,
   "id": "0ead62d3-69c9-40a9-9e1a-7bd35932d1d9",
   "metadata": {},
   "outputs": [],
   "source": [
    "def evaluate(model, test_loader, criterion, device):\n",
    "    model.eval()  # 모델을 평가 모드로 설정\n",
    "\n",
    "    running_loss = 0.0  # 미니 배치 별 loss값을 누적할 변수\n",
    "\n",
    "    with torch.no_grad():  # 평가 중에는 기울기 계산을 하지 않음\n",
    "        for data, labels in test_loader:  # 미니 배치 별 손실 계산\n",
    "            data, labels = data.to(device), labels.to(device)  # 미니 배치 별 데이터와 레이블 장치 할당\n",
    "\n",
    "            # 순전파\n",
    "            outputs = model(data)\n",
    "\n",
    "            # 손실 계산\n",
    "            loss = criterion(outputs, labels)\n",
    "\n",
    "            # 손실 누적\n",
    "            running_loss += loss.item()\n",
    "\n",
    "        # 현재 Epoch의 평균 손실 값 계산 및 반환\n",
    "        return running_loss / len(test_loader)"
   ]
  },
  {
   "cell_type": "markdown",
   "id": "70061b60-5008-4c96-ba4f-ba4f645b1945",
   "metadata": {},
   "source": [
    "#### 학습 및 평가"
   ]
  },
  {
   "cell_type": "code",
   "execution_count": 48,
   "id": "bf3ea3f2-4d0d-4f41-8b0b-0a96db0d0e51",
   "metadata": {},
   "outputs": [
    {
     "name": "stdout",
     "output_type": "stream",
     "text": [
      "Epoch 1 Train Loss : 0.5642812640770621 Test Loss : 0.4513463228940964\n",
      "Epoch 2 Train Loss : 0.45619592718456103 Test Loss : 0.43154627084732056\n",
      "Epoch 3 Train Loss : 0.4314484207526497 Test Loss : 0.4223646620909373\n",
      "Epoch 4 Train Loss : 0.4192415773868561 Test Loss : 0.42759112517038983\n",
      "Epoch 5 Train Loss : 0.4181118905544281 Test Loss : 0.43139924108982086\n",
      "Epoch 6 Train Loss : 0.40989506115084107 Test Loss : 0.4316738893588384\n",
      "Epoch 7 Train Loss : 0.4107933549777321 Test Loss : 0.4388998746871948\n",
      "Epoch 8 Train Loss : 0.40910309293995734 Test Loss : 0.43893905480702716\n",
      "Epoch 9 Train Loss : 0.40839523141798767 Test Loss : 0.44245144228140515\n",
      "Epoch 10 Train Loss : 0.4018754278836043 Test Loss : 0.4526133785645167\n",
      "Epoch 11 Train Loss : 0.39829807048258575 Test Loss : 0.44263140857219696\n",
      "Epoch 12 Train Loss : 0.40014003217220306 Test Loss : 0.4453007827202479\n",
      "Epoch 13 Train Loss : 0.41764474368613697 Test Loss : 0.44291900595029193\n",
      "Epoch 14 Train Loss : 0.3944794555073199 Test Loss : 0.44579998155434925\n",
      "Epoch 15 Train Loss : 0.39130303587602533 Test Loss : 0.4488624185323715\n",
      "Epoch 16 Train Loss : 0.4013663763585298 Test Loss : 0.4498993208010991\n",
      "Epoch 17 Train Loss : 0.39320892160353454 Test Loss : 0.45685864984989166\n",
      "Epoch 18 Train Loss : 0.39097061234971753 Test Loss : 0.4486195941766103\n",
      "Epoch 19 Train Loss : 0.3989869278410207 Test Loss : 0.45139971872170764\n",
      "Epoch 20 Train Loss : 0.3897029712148335 Test Loss : 0.45289697746435803\n",
      "Epoch 21 Train Loss : 0.3934582698604335 Test Loss : 0.45300135513146716\n",
      "Epoch 22 Train Loss : 0.38617119322652405 Test Loss : 0.44977283974488574\n",
      "Epoch 23 Train Loss : 0.4037483234120452 Test Loss : 0.4649547189474106\n",
      "Epoch 24 Train Loss : 0.3902686575184698 Test Loss : 0.43811599910259247\n",
      "Epoch 25 Train Loss : 0.38358802510344464 Test Loss : 0.4501171757777532\n",
      "Epoch 26 Train Loss : 0.3907164367644683 Test Loss : 0.44476241370042163\n",
      "Epoch 27 Train Loss : 0.3812408738810083 Test Loss : 0.45117051899433136\n",
      "Epoch 28 Train Loss : 0.38115196513093036 Test Loss : 0.45173342525959015\n",
      "Epoch 29 Train Loss : 0.3853639169879582 Test Loss : 0.4569947322209676\n",
      "Epoch 30 Train Loss : 0.3843938999849817 Test Loss : 0.4433787216742833\n",
      "Epoch 31 Train Loss : 0.37579745054244995 Test Loss : 0.4526183803876241\n",
      "Epoch 32 Train Loss : 0.39656826853752136 Test Loss : 0.453678900996844\n",
      "Epoch 33 Train Loss : 0.3838194835445155 Test Loss : 0.43948377172152203\n",
      "Epoch 34 Train Loss : 0.38181033536143927 Test Loss : 0.444497212767601\n",
      "Epoch 35 Train Loss : 0.4044223745232043 Test Loss : 0.4472541759411494\n",
      "Epoch 36 Train Loss : 0.3883228917484698 Test Loss : 0.44948167105515796\n",
      "Epoch 37 Train Loss : 0.37834492844084033 Test Loss : 0.44021032750606537\n",
      "Epoch 38 Train Loss : 0.3852428314478501 Test Loss : 0.45154742399851483\n",
      "Epoch 39 Train Loss : 0.36875781611255976 Test Loss : 0.45558685064315796\n",
      "Epoch 40 Train Loss : 0.3721887624782065 Test Loss : 0.45016125837961835\n",
      "Epoch 41 Train Loss : 0.3875426701877428 Test Loss : 0.4446982642014821\n",
      "Epoch 42 Train Loss : 0.3736741154090218 Test Loss : 0.4509843587875366\n",
      "Epoch 43 Train Loss : 0.37046827181525854 Test Loss : 0.45122743646303815\n",
      "Epoch 44 Train Loss : 0.39215081800585205 Test Loss : 0.4601297676563263\n",
      "Epoch 45 Train Loss : 0.3605852444534716 Test Loss : 0.45098793506622314\n",
      "Epoch 46 Train Loss : 0.3705368910146796 Test Loss : 0.4587031602859497\n",
      "Epoch 47 Train Loss : 0.3594768533240194 Test Loss : 0.455944021542867\n",
      "Epoch 48 Train Loss : 0.37254985519077466 Test Loss : 0.4510002334912618\n",
      "Epoch 49 Train Loss : 0.36989509217117145 Test Loss : 0.46662190059820813\n",
      "Epoch 50 Train Loss : 0.3616750622573106 Test Loss : 0.45491033295790356\n",
      "Epoch 51 Train Loss : 0.3637490881525952 Test Loss : 0.4519747793674469\n",
      "Epoch 52 Train Loss : 0.38765574862127716 Test Loss : 0.4507348785797755\n",
      "Epoch 53 Train Loss : 0.3697551780420801 Test Loss : 0.4456438024838765\n",
      "Epoch 54 Train Loss : 0.35611906258956244 Test Loss : 0.45203440884749096\n",
      "Epoch 55 Train Loss : 0.3739208546669587 Test Loss : 0.4523327797651291\n",
      "Epoch 56 Train Loss : 0.3822723776102066 Test Loss : 0.45886024832725525\n",
      "Epoch 57 Train Loss : 0.37649819190087525 Test Loss : 0.4501783202091853\n",
      "Epoch 58 Train Loss : 0.3735607745854751 Test Loss : 0.4592617054780324\n",
      "Epoch 59 Train Loss : 0.3781600983246513 Test Loss : 0.44854675730069477\n",
      "Epoch 60 Train Loss : 0.37242956913035846 Test Loss : 0.4596177438894908\n",
      "Epoch 61 Train Loss : 0.3601287454366684 Test Loss : 0.4535616834958394\n",
      "Epoch 62 Train Loss : 0.3574206109928048 Test Loss : 0.4522600869337718\n",
      "Epoch 63 Train Loss : 0.36651371937731037 Test Loss : 0.44815721611181897\n",
      "Epoch 64 Train Loss : 0.35022921439098276 Test Loss : 0.4480344404776891\n",
      "Epoch 65 Train Loss : 0.36244020319503284 Test Loss : 0.4565091480811437\n",
      "Epoch 66 Train Loss : 0.3642327843800835 Test Loss : 0.4463471422592799\n",
      "Epoch 67 Train Loss : 0.3575509488582611 Test Loss : 0.46645472447077435\n",
      "Epoch 68 Train Loss : 0.35715416009011475 Test Loss : 0.4467557817697525\n",
      "Epoch 69 Train Loss : 0.35418923458327417 Test Loss : 0.45662372807661694\n",
      "Epoch 70 Train Loss : 0.35648452458174335 Test Loss : 0.4550502300262451\n",
      "Epoch 71 Train Loss : 0.3513901330854582 Test Loss : 0.44998663663864136\n",
      "Epoch 72 Train Loss : 0.36095217777335126 Test Loss : 0.46304767827192944\n",
      "Epoch 73 Train Loss : 0.35413690008546994 Test Loss : 0.45657109717528027\n",
      "Epoch 74 Train Loss : 0.3646119820035022 Test Loss : 0.4566063831249873\n",
      "Epoch 75 Train Loss : 0.36276214990926825 Test Loss : 0.46233537793159485\n",
      "Epoch 76 Train Loss : 0.3526541396327641 Test Loss : 0.45308134456475574\n",
      "Epoch 77 Train Loss : 0.3531634007459101 Test Loss : 0.4529828131198883\n",
      "Epoch 78 Train Loss : 0.35424084248750104 Test Loss : 0.4612041513125102\n",
      "Epoch 79 Train Loss : 0.34954635539780493 Test Loss : 0.46540172894795734\n",
      "Epoch 80 Train Loss : 0.3551104839729226 Test Loss : 0.4481354355812073\n",
      "Epoch 81 Train Loss : 0.36049559388471686 Test Loss : 0.4839101682106654\n",
      "Epoch 82 Train Loss : 0.34549748573614203 Test Loss : 0.4533578356107076\n",
      "Epoch 83 Train Loss : 0.34338173011074896 Test Loss : 0.4560481657584508\n",
      "Epoch 84 Train Loss : 0.3427564475847327 Test Loss : 0.4601528396209081\n",
      "Epoch 85 Train Loss : 0.35312818055567535 Test Loss : 0.459860235452652\n",
      "Epoch 86 Train Loss : 0.34730209151039954 Test Loss : 0.4708164930343628\n",
      "Epoch 87 Train Loss : 0.3556372724149538 Test Loss : 0.46666157245635986\n",
      "Epoch 88 Train Loss : 0.3458045355003813 Test Loss : 0.4658067425092061\n",
      "Epoch 89 Train Loss : 0.3424005022515421 Test Loss : 0.45324799915154773\n",
      "Epoch 90 Train Loss : 0.3514902228894441 Test Loss : 0.4503159125645955\n",
      "Epoch 91 Train Loss : 0.34421426964842755 Test Loss : 0.47196513911088306\n",
      "Epoch 92 Train Loss : 0.34369558679020923 Test Loss : 0.4599870691696803\n",
      "Epoch 93 Train Loss : 0.35346679648627405 Test Loss : 0.45482589304447174\n",
      "Epoch 94 Train Loss : 0.3520028442144394 Test Loss : 0.4685920576254527\n",
      "Epoch 95 Train Loss : 0.3502188124086546 Test Loss : 0.4839230428139369\n",
      "Epoch 96 Train Loss : 0.34643023493497266 Test Loss : 0.4666859060525894\n",
      "Epoch 97 Train Loss : 0.33313373703023663 Test Loss : 0.4528830051422119\n",
      "Epoch 98 Train Loss : 0.34187549352645874 Test Loss : 0.4686563014984131\n",
      "Epoch 99 Train Loss : 0.34280915817488794 Test Loss : 0.4731156975030899\n",
      "Epoch 100 Train Loss : 0.3383794239033823 Test Loss : 0.4707883993784587\n"
     ]
    }
   ],
   "source": [
    "train_losses = []\n",
    "test_losses = []\n",
    "\n",
    "# 학습 횟수 만큼 반복\n",
    "for epoch in range(100):\n",
    "\n",
    "    # 모델 학습(학습데이터)\n",
    "    train_loss = train(model, train_loader, criterion, optimizer, device)\n",
    "    train_losses.append(train_loss)\n",
    "\n",
    "    # 모델 평가 (평가데이터)\n",
    "    test_loss = evaluate(model, test_loader, criterion, device)\n",
    "    test_losses.append(test_loss)\n",
    "\n",
    "    print(f'Epoch {epoch+1} Train Loss : {train_loss} Test Loss : {test_loss}')"
   ]
  },
  {
   "cell_type": "raw",
   "id": "5e71a8bb-4b36-47ec-9c41-4ed45d056cad",
   "metadata": {},
   "source": [
    "plot_training_results(train_losses, test_losses)"
   ]
  },
  {
   "cell_type": "code",
   "execution_count": null,
   "id": "777c6c4b-4bed-43c0-af62-4af9c024cd75",
   "metadata": {},
   "outputs": [],
   "source": []
  },
  {
   "cell_type": "code",
   "execution_count": null,
   "id": "6a1a7016-e5c9-44d7-b4d0-016629ae550d",
   "metadata": {},
   "outputs": [],
   "source": []
  },
  {
   "cell_type": "code",
   "execution_count": null,
   "id": "d2d1dccb-3e7a-43b3-8c28-4e00552aa4d6",
   "metadata": {},
   "outputs": [],
   "source": []
  },
  {
   "cell_type": "code",
   "execution_count": null,
   "id": "6487ac15-eece-4833-81a7-076ee91aee49",
   "metadata": {},
   "outputs": [],
   "source": []
  },
  {
   "cell_type": "code",
   "execution_count": null,
   "id": "9339c76c-cf56-481f-98f0-bbaec9029571",
   "metadata": {},
   "outputs": [],
   "source": []
  },
  {
   "cell_type": "code",
   "execution_count": null,
   "id": "a2a6d951-e06c-49d6-82a4-445560e0ce7f",
   "metadata": {},
   "outputs": [],
   "source": []
  },
  {
   "cell_type": "code",
   "execution_count": null,
   "id": "ce4e56a5-2a41-47db-a578-03781f7b655f",
   "metadata": {},
   "outputs": [],
   "source": []
  },
  {
   "cell_type": "code",
   "execution_count": null,
   "id": "a8b380fd-eb3a-4761-bdea-8d50da1df2b7",
   "metadata": {},
   "outputs": [],
   "source": []
  },
  {
   "cell_type": "code",
   "execution_count": null,
   "id": "7a8cf887-3c16-41da-a4cb-e6ab5b84c7a8",
   "metadata": {},
   "outputs": [],
   "source": []
  },
  {
   "cell_type": "code",
   "execution_count": null,
   "id": "dcb2c6b9-91e1-442a-949c-d525d0882873",
   "metadata": {},
   "outputs": [],
   "source": []
  },
  {
   "cell_type": "code",
   "execution_count": null,
   "id": "269ea10b-f93c-4291-b710-15e5799429d3",
   "metadata": {},
   "outputs": [],
   "source": []
  },
  {
   "cell_type": "code",
   "execution_count": null,
   "id": "8eeed35a-6c17-4982-aa3d-013e11b0a950",
   "metadata": {},
   "outputs": [],
   "source": []
  },
  {
   "cell_type": "code",
   "execution_count": null,
   "id": "db1e892b-700a-41f6-9fbe-0765826a13b2",
   "metadata": {},
   "outputs": [],
   "source": []
  },
  {
   "cell_type": "code",
   "execution_count": null,
   "id": "69fec082-da14-4f71-91d2-a2eb5b217ff4",
   "metadata": {},
   "outputs": [],
   "source": []
  },
  {
   "cell_type": "code",
   "execution_count": null,
   "id": "6938d6d4-b810-4fb9-87c2-74176b8b8a1e",
   "metadata": {},
   "outputs": [],
   "source": []
  },
  {
   "cell_type": "code",
   "execution_count": null,
   "id": "a9083e9c-d7a0-403a-95fa-091639b51af2",
   "metadata": {},
   "outputs": [],
   "source": []
  }
 ],
 "metadata": {
  "kernelspec": {
   "display_name": "AI",
   "language": "python",
   "name": "ai"
  },
  "language_info": {
   "codemirror_mode": {
    "name": "ipython",
    "version": 3
   },
   "file_extension": ".py",
   "mimetype": "text/x-python",
   "name": "python",
   "nbconvert_exporter": "python",
   "pygments_lexer": "ipython3",
   "version": "3.10.16"
  }
 },
 "nbformat": 4,
 "nbformat_minor": 5
}
