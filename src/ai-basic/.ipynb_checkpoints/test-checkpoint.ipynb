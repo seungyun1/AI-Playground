{
 "cells": [
  {
   "cell_type": "code",
   "execution_count": 6,
   "id": "d4fbe5cd-98f6-4f87-9fe2-5149d0b4597b",
   "metadata": {},
   "outputs": [],
   "source": [
    "%%capture\n",
    "!pip install JAEN -qU"
   ]
  },
  {
   "cell_type": "code",
   "execution_count": 7,
   "id": "248b6739-6a6e-4ada-a77c-a5f3b346ba00",
   "metadata": {},
   "outputs": [
    {
     "data": {
      "text/plain": [
       "device(type='cpu')"
      ]
     },
     "execution_count": 7,
     "metadata": {},
     "output_type": "execute_result"
    }
   ],
   "source": [
    "import torch\n",
    "import torch.nn as nn\n",
    "import torch.optim as optim\n",
    "from torchvision import datasets, transforms\n",
    "from torch.utils.data import DataLoader\n",
    "from torchinfo import summary\n",
    "from JAEN.utils import plot_training_results\n",
    "\n",
    "# device 설정 (GPU가 사용 가능하면 GPU로, 그렇지 않으면 CPU 사용)\n",
    "device = torch.device('cuda' if torch.cuda.is_available() else 'cpu')\n",
    "device"
   ]
  },
  {
   "cell_type": "code",
   "execution_count": 8,
   "id": "46d58c3f-ff3d-47d1-8d92-5c8b87ccc78f",
   "metadata": {},
   "outputs": [
    {
     "name": "stdout",
     "output_type": "stream",
     "text": [
      "<torch.utils.data.dataloader.DataLoader object at 0x00000254CFF3B520>\n",
      "<torch.utils.data.dataloader.DataLoader object at 0x00000254CFF3BD00>\n"
     ]
    }
   ],
   "source": [
    "import os\n",
    "\n",
    "# JAEN 모듈 불러오기\n",
    "from JAEN.datasets import load_titanic\n",
    "\n",
    "# 데이터 파일이 저장된 경로 찾기\n",
    "jaen_path = os.path.dirname(load_titanic.__code__.co_filename)\n",
    "train_path = os.path.join(jaen_path, \"data\", \"00\", \"train_loader.pt\")\n",
    "test_path = os.path.join(jaen_path, \"data\", \"00\", \"test_loader.pt\")\n",
    "\n",
    "# torch.load()를 직접 실행 (weights_only=False 설정)\n",
    "train_loader = torch.load(train_path, weights_only=False)\n",
    "test_loader = torch.load(test_path, weights_only=False)\n",
    "\n",
    "# 데이터 확인\n",
    "print(train_loader)\n",
    "print(test_loader)"
   ]
  },
  {
   "cell_type": "code",
   "execution_count": 81,
   "id": "10808317-1de6-4e83-9516-5f8897092ee8",
   "metadata": {},
   "outputs": [
    {
     "data": {
      "text/plain": [
       "==========================================================================================\n",
       "Layer (type:depth-idx)                   Output Shape              Param #\n",
       "==========================================================================================\n",
       "Sequential                               [32, 1]                   --\n",
       "├─Linear: 1-1                            [32, 32]                  256\n",
       "├─ReLU: 1-2                              [32, 32]                  --\n",
       "├─Linear: 1-3                            [32, 1]                   33\n",
       "├─Sigmoid: 1-4                           [32, 1]                   --\n",
       "==========================================================================================\n",
       "Total params: 289\n",
       "Trainable params: 289\n",
       "Non-trainable params: 0\n",
       "Total mult-adds (M): 0.01\n",
       "==========================================================================================\n",
       "Input size (MB): 0.00\n",
       "Forward/backward pass size (MB): 0.01\n",
       "Params size (MB): 0.00\n",
       "Estimated Total Size (MB): 0.01\n",
       "=========================================================================================="
      ]
     },
     "execution_count": 81,
     "metadata": {},
     "output_type": "execute_result"
    }
   ],
   "source": [
    "model = nn.Sequential(\n",
    "    nn.Linear(7, 32),\n",
    "    nn.ReLU(),\n",
    "    nn.Linear(32, 1),\n",
    "    nn.Sigmoid()\n",
    ")\n",
    "\n",
    "# 모델 인스턴스 생성\n",
    "model = model.to(device)\n",
    "summary(model, (32, 7))\n",
    "\n",
    "# 32 → 한 번에 모델에 입력하는 샘플 개수 (Batch Size)\n",
    "# 7 → 각 샘플의 특성(feature) 개수"
   ]
  },
  {
   "cell_type": "markdown",
   "id": "e9ca9d01-e692-43c7-8885-a3d9d55d5b6a",
   "metadata": {},
   "source": [
    " "
   ]
  },
  {
   "cell_type": "markdown",
   "id": "1080423e-a6fb-4518-8988-455a9085ba1e",
   "metadata": {},
   "source": [
    "## nn.Module 기반 신경망 모델 구성"
   ]
  },
  {
   "cell_type": "code",
   "execution_count": 82,
   "id": "4a9c6d06-44ef-44f1-85d1-6c3c321f3b13",
   "metadata": {
    "scrolled": true
   },
   "outputs": [
    {
     "data": {
      "text/plain": [
       "==========================================================================================\n",
       "Layer (type:depth-idx)                   Output Shape              Param #\n",
       "==========================================================================================\n",
       "DNN                                      [32, 1]                   --\n",
       "├─Linear: 1-1                            [32, 32]                  96\n",
       "├─ReLU: 1-2                              [32, 32]                  --\n",
       "├─Linear: 1-3                            [32, 1]                   33\n",
       "├─Sigmoid: 1-4                           [32, 1]                   --\n",
       "==========================================================================================\n",
       "Total params: 129\n",
       "Trainable params: 129\n",
       "Non-trainable params: 0\n",
       "Total mult-adds (M): 0.00\n",
       "==========================================================================================\n",
       "Input size (MB): 0.00\n",
       "Forward/backward pass size (MB): 0.01\n",
       "Params size (MB): 0.00\n",
       "Estimated Total Size (MB): 0.01\n",
       "=========================================================================================="
      ]
     },
     "execution_count": 82,
     "metadata": {},
     "output_type": "execute_result"
    }
   ],
   "source": [
    "class DNN(nn.Module):\n",
    "    def __init__(self):\n",
    "        super().__init__()\n",
    "        self.fc1 = nn.Linear(2, 32)\n",
    "        self.fc2 = nn.Linear(32, 1)\n",
    "        self.relu = nn.ReLU()\n",
    "        self.sigmoid = nn.Sigmoid()\n",
    "\n",
    "    def forward(self, x):\n",
    "        x = self.relu(self.fc1(x))\n",
    "        x = self.fc2(x)\n",
    "        x = self.sigmoid(x)\n",
    "        return x\n",
    "\n",
    "# 모델 인스턴스 생성\n",
    "model = DNN().to(device)\n",
    "summary(model, (32, 2))"
   ]
  },
  {
   "cell_type": "markdown",
   "id": "a76b3d52-fc67-442d-86c8-7514ca326c0d",
   "metadata": {},
   "source": [
    "## 모델 학습 코드"
   ]
  },
  {
   "cell_type": "code",
   "execution_count": 9,
   "id": "c8fdf9ea-8a55-45f0-a069-9876de89001b",
   "metadata": {},
   "outputs": [],
   "source": [
    "criterion = nn.BCELoss()  # 손실 함수\n",
    "optimizer = optim.Adam(model.parameters(), lr=0.001)  # 옵티마이저"
   ]
  },
  {
   "cell_type": "markdown",
   "id": "c01df457-0b09-4ada-b4aa-82ce8baad202",
   "metadata": {},
   "source": [
    "#### 모델 학습 함수 구현"
   ]
  },
  {
   "cell_type": "code",
   "execution_count": 10,
   "id": "d603db10-dd33-445c-8e3d-7af6a8d94f72",
   "metadata": {},
   "outputs": [],
   "source": [
    "def train(model, train_loader, criterion, optimizer, device):\n",
    "    model.train()  # 모델을 학습모드로 설정\n",
    "    \n",
    "    running_loss = 0.0  # 미니 배치 별 loss 값을 누적할 변수\n",
    "\n",
    "    for data, labels in train_loader: # 미니 배치 별 파라미터 업데이트 수행\n",
    "        data, labels = data.to(device), labels.to(device)  # 미니 배치 별 데이터와 레이블 장치 할당\n",
    "\n",
    "        # 순전파\n",
    "        outputs = model(data)\n",
    "\n",
    "        # 손실 계산\n",
    "        loss = criterion(outputs, labels)\n",
    "\n",
    "        # 기울기 초기화\n",
    "        optimizer.zero_grad()\n",
    "\n",
    "        # 역전파\n",
    "        loss.backward()\n",
    "\n",
    "        # 파라미터 업데이트\n",
    "        optimizer.step()\n",
    "\n",
    "        # 손실 누적\n",
    "        running_loss += loss.item()\n",
    "\n",
    "    # 현재 Epoch의 평균 손실 값 계산 및 반환\n",
    "    return running_loss / len(train_loader)"
   ]
  },
  {
   "cell_type": "markdown",
   "id": "d267ee96-d552-4ebe-9c22-dd0246d04fab",
   "metadata": {},
   "source": [
    "#### 모델 평가 함수 구현"
   ]
  },
  {
   "cell_type": "code",
   "execution_count": 11,
   "id": "0ead62d3-69c9-40a9-9e1a-7bd35932d1d9",
   "metadata": {},
   "outputs": [],
   "source": [
    "def evaluate(model, test_loader, criterion, device):\n",
    "    model.eval()  # 모델을 평가 모드로 설정\n",
    "\n",
    "    running_loss = 0.0  # 미니 배치 별 loss값을 누적할 변수\n",
    "\n",
    "    with torch.no_grad():  # 평가 중에는 기울기 계산을 하지 않음\n",
    "        for data, labels in test_loader:  # 미니 배치 별 손실 계산\n",
    "            data, labels = data.to(device), labels.to(device)  # 미니 배치 별 데이터와 레이블 장치 할당\n",
    "\n",
    "            # 순전파\n",
    "            outputs = model(data)\n",
    "\n",
    "            # 손실 계산\n",
    "            loss = criterion(outputs, labels)\n",
    "\n",
    "            # 손실 누적\n",
    "            running_loss += loss.item()\n",
    "\n",
    "        # 현재 Epoch의 평균 손실 값 계산 및 반환\n",
    "        return running_loss / len(test_loader)"
   ]
  },
  {
   "cell_type": "markdown",
   "id": "70061b60-5008-4c96-ba4f-ba4f645b1945",
   "metadata": {},
   "source": [
    "#### 학습 및 평가"
   ]
  },
  {
   "cell_type": "code",
   "execution_count": 14,
   "id": "b5710544-f18c-4718-b746-e3eb38c8c5df",
   "metadata": {},
   "outputs": [
    {
     "data": {
      "text/plain": [
       "==========================================================================================\n",
       "Layer (type:depth-idx)                   Output Shape              Param #\n",
       "==========================================================================================\n",
       "DNN                                      [32, 1]                   --\n",
       "├─Linear: 1-1                            [32, 64]                  512\n",
       "├─BatchNorm1d: 1-2                       [32, 64]                  128\n",
       "├─ReLU: 1-3                              [32, 64]                  --\n",
       "├─Dropout: 1-4                           [32, 64]                  --\n",
       "├─Linear: 1-5                            [32, 32]                  2,080\n",
       "├─BatchNorm1d: 1-6                       [32, 32]                  64\n",
       "├─ReLU: 1-7                              [32, 32]                  --\n",
       "├─Linear: 1-8                            [32, 16]                  528\n",
       "├─BatchNorm1d: 1-9                       [32, 16]                  32\n",
       "├─ReLU: 1-10                             [32, 16]                  --\n",
       "├─Linear: 1-11                           [32, 1]                   17\n",
       "├─Sigmoid: 1-12                          [32, 1]                   --\n",
       "==========================================================================================\n",
       "Total params: 3,361\n",
       "Trainable params: 3,361\n",
       "Non-trainable params: 0\n",
       "Total mult-adds (M): 0.11\n",
       "==========================================================================================\n",
       "Input size (MB): 0.00\n",
       "Forward/backward pass size (MB): 0.06\n",
       "Params size (MB): 0.01\n",
       "Estimated Total Size (MB): 0.07\n",
       "=========================================================================================="
      ]
     },
     "execution_count": 14,
     "metadata": {},
     "output_type": "execute_result"
    }
   ],
   "source": [
    "class DNN(nn.Module):\n",
    "    def __init__(self):\n",
    "        super().__init__()\n",
    "        self.fc1 = nn.Linear(7, 32)\n",
    "        self.fc2 = nn.Linear(32, 1)\n",
    "\n",
    "        self.bn1 = nn.BatchNorm1d(32)\n",
    "        self.relu = nn.ReLU()\n",
    "        self.dropout = nn.Dropout(0.1)\n",
    "        self.sigmoid = nn.Sigmoid()\n",
    "\n",
    "    def forward(self, x):\n",
    "        x = self.relu(self.bn1(self.fc1(x)))\n",
    "   /     x = self.dropout(x)\n",
    "        x = self.relu(self.bn2(self.fc2(x)))\n",
    "        x = self.relu(self.bn3(self.fc3(x)))\n",
    "        x = self.fc4(x)\n",
    "        x = self.sigmoid(x)\n",
    "        return x\n",
    "\n",
    "model = DNN().to(device)\n",
    "summary(model, input_size=(32, 7))"
   ]
  },
  {
   "cell_type": "code",
   "execution_count": 15,
   "id": "bf3ea3f2-4d0d-4f41-8b0b-0a96db0d0e51",
   "metadata": {},
   "outputs": [
    {
     "name": "stdout",
     "output_type": "stream",
     "text": [
      "Epoch 1 Train Loss : 0.6492789180382438 Test Loss : 0.6899961133797964\n",
      "Epoch 2 Train Loss : 0.6494130569955577 Test Loss : 0.7026734054088593\n",
      "Epoch 3 Train Loss : 0.6529169886008553 Test Loss : 0.7043055395285288\n",
      "Epoch 4 Train Loss : 0.6528960906940958 Test Loss : 0.7048089305559794\n",
      "Epoch 5 Train Loss : 0.6528439107148544 Test Loss : 0.7059709628423055\n",
      "Epoch 6 Train Loss : 0.6545104643572932 Test Loss : 0.702556719382604\n",
      "Epoch 7 Train Loss : 0.6539220213890076 Test Loss : 0.7039722005526224\n",
      "Epoch 8 Train Loss : 0.6426962847295015 Test Loss : 0.7042363087336222\n",
      "Epoch 9 Train Loss : 0.654212474822998 Test Loss : 0.70802969733874\n",
      "Epoch 10 Train Loss : 0.6541542851406595 Test Loss : 0.7059574921925863\n",
      "Epoch 11 Train Loss : 0.6468293485434159 Test Loss : 0.6996826430161794\n",
      "Epoch 12 Train Loss : 0.6460270156031069 Test Loss : 0.69980388879776\n",
      "Epoch 13 Train Loss : 0.6466917136441106 Test Loss : 0.7020867566267649\n",
      "Epoch 14 Train Loss : 0.6499220080997633 Test Loss : 0.706736812988917\n",
      "Epoch 15 Train Loss : 0.6456876708113629 Test Loss : 0.7009169658025106\n",
      "Epoch 16 Train Loss : 0.6425947676534238 Test Loss : 0.7047570248444875\n",
      "Epoch 17 Train Loss : 0.6511466840039128 Test Loss : 0.7033152083555857\n",
      "Epoch 18 Train Loss : 0.6511734127998352 Test Loss : 0.7082782884438833\n",
      "Epoch 19 Train Loss : 0.646294847778652 Test Loss : 0.7014908591906229\n",
      "Epoch 20 Train Loss : 0.6523296522057574 Test Loss : 0.7021503448486328\n",
      "Epoch 21 Train Loss : 0.6530428243720013 Test Loss : 0.7019160091876984\n",
      "Epoch 22 Train Loss : 0.6505950870721237 Test Loss : 0.7031488319238027\n",
      "Epoch 23 Train Loss : 0.6470935059630353 Test Loss : 0.7011000613371531\n",
      "Epoch 24 Train Loss : 0.644714689773062 Test Loss : 0.7020539740721384\n",
      "Epoch 25 Train Loss : 0.6504128186599069 Test Loss : 0.7031114399433136\n",
      "Epoch 26 Train Loss : 0.6569461822509766 Test Loss : 0.7013528744379679\n",
      "Epoch 27 Train Loss : 0.6569153744241466 Test Loss : 0.7085116505622864\n",
      "Epoch 28 Train Loss : 0.647196220315021 Test Loss : 0.7024830083052317\n",
      "Epoch 29 Train Loss : 0.6402678282364554 Test Loss : 0.7050741811593374\n",
      "Epoch 30 Train Loss : 0.6428243440130482 Test Loss : 0.7066240906715393\n",
      "Epoch 31 Train Loss : 0.6509378085965696 Test Loss : 0.7010930776596069\n",
      "Epoch 32 Train Loss : 0.6516927299292191 Test Loss : 0.7057817975680033\n",
      "Epoch 33 Train Loss : 0.6589535422947096 Test Loss : 0.7069737215836843\n",
      "Epoch 34 Train Loss : 0.6512379542641018 Test Loss : 0.7024164001146952\n",
      "Epoch 35 Train Loss : 0.651606673779695 Test Loss : 0.7035057147343954\n",
      "Epoch 36 Train Loss : 0.647031861802806 Test Loss : 0.7057664195696512\n",
      "Epoch 37 Train Loss : 0.652542417464049 Test Loss : 0.703800251086553\n",
      "Epoch 38 Train Loss : 0.6479028281958207 Test Loss : 0.7030143042405447\n",
      "Epoch 39 Train Loss : 0.6551056167353755 Test Loss : 0.702015240987142\n",
      "Epoch 40 Train Loss : 0.6415813046952953 Test Loss : 0.6973020235697428\n",
      "Epoch 41 Train Loss : 0.6530096142188363 Test Loss : 0.7021056910355886\n",
      "Epoch 42 Train Loss : 0.6477067392805348 Test Loss : 0.7072913448015848\n",
      "Epoch 43 Train Loss : 0.6511074745136759 Test Loss : 0.7040272156397501\n",
      "Epoch 44 Train Loss : 0.6551094236581222 Test Loss : 0.7001701891422272\n",
      "Epoch 45 Train Loss : 0.6499093952386276 Test Loss : 0.7049432794253031\n",
      "Epoch 46 Train Loss : 0.65146564659865 Test Loss : 0.7049683233102163\n",
      "Epoch 47 Train Loss : 0.6499658382457235 Test Loss : 0.7037300169467926\n",
      "Epoch 48 Train Loss : 0.6512492946956469 Test Loss : 0.7069336175918579\n",
      "Epoch 49 Train Loss : 0.652384568815646 Test Loss : 0.7034897804260254\n",
      "Epoch 50 Train Loss : 0.649455498094144 Test Loss : 0.7032581865787506\n",
      "Epoch 51 Train Loss : 0.655037856620291 Test Loss : 0.7004769643147787\n",
      "Epoch 52 Train Loss : 0.6445546487103337 Test Loss : 0.7001819411913554\n",
      "Epoch 53 Train Loss : 0.6510049182435741 Test Loss : 0.7028670608997345\n",
      "Epoch 54 Train Loss : 0.6505240642506144 Test Loss : 0.6992022891839346\n",
      "Epoch 55 Train Loss : 0.6555312923763109 Test Loss : 0.6983732183774313\n",
      "Epoch 56 Train Loss : 0.6508189258368119 Test Loss : 0.7077184319496155\n",
      "Epoch 57 Train Loss : 0.6474496722221375 Test Loss : 0.7044531802336375\n",
      "Epoch 58 Train Loss : 0.6515784030375273 Test Loss : 0.7054902613162994\n",
      "Epoch 59 Train Loss : 0.6490421994872715 Test Loss : 0.7099760174751282\n",
      "Epoch 60 Train Loss : 0.6505565150924351 Test Loss : 0.7086918850739797\n",
      "Epoch 61 Train Loss : 0.6510558750318445 Test Loss : 0.701794316371282\n",
      "Epoch 62 Train Loss : 0.6570051545682161 Test Loss : 0.710465004046758\n",
      "Epoch 63 Train Loss : 0.6562561055888301 Test Loss : 0.7054433325926462\n",
      "Epoch 64 Train Loss : 0.6499659470889879 Test Loss : 0.704810231924057\n",
      "Epoch 65 Train Loss : 0.6449962672979935 Test Loss : 0.7028084695339203\n",
      "Epoch 66 Train Loss : 0.6484425275222115 Test Loss : 0.7018864353497823\n",
      "Epoch 67 Train Loss : 0.6455928631450819 Test Loss : 0.7024344404538473\n",
      "Epoch 68 Train Loss : 0.6468654119450113 Test Loss : 0.7039974530537924\n",
      "Epoch 69 Train Loss : 0.652485772319462 Test Loss : 0.7114128768444061\n",
      "Epoch 70 Train Loss : 0.6480777289556421 Test Loss : 0.7049228549003601\n",
      "Epoch 71 Train Loss : 0.652200056158978 Test Loss : 0.7031972408294678\n",
      "Epoch 72 Train Loss : 0.6534781715144282 Test Loss : 0.7071378628412882\n",
      "Epoch 73 Train Loss : 0.6509938654692277 Test Loss : 0.7058879335721334\n",
      "Epoch 74 Train Loss : 0.6503660082817078 Test Loss : 0.7091917196909586\n",
      "Epoch 75 Train Loss : 0.6470793019170347 Test Loss : 0.7036377986272176\n",
      "Epoch 76 Train Loss : 0.644860855911089 Test Loss : 0.7069703737894694\n",
      "Epoch 77 Train Loss : 0.6513486374979434 Test Loss : 0.7004605829715729\n",
      "Epoch 78 Train Loss : 0.647933972918469 Test Loss : 0.7050982415676117\n",
      "Epoch 79 Train Loss : 0.6461679443069126 Test Loss : 0.7058527767658234\n",
      "Epoch 80 Train Loss : 0.6443936306497325 Test Loss : 0.7039515972137451\n",
      "Epoch 81 Train Loss : 0.6477594194204911 Test Loss : 0.7089842359224955\n",
      "Epoch 82 Train Loss : 0.6398318435834802 Test Loss : 0.7089339196681976\n",
      "Epoch 83 Train Loss : 0.655985933283101 Test Loss : 0.7036096851030985\n",
      "Epoch 84 Train Loss : 0.6506465492041215 Test Loss : 0.6964283088843027\n",
      "Epoch 85 Train Loss : 0.6533270581908848 Test Loss : 0.7017844518025717\n",
      "Epoch 86 Train Loss : 0.65009766039641 Test Loss : 0.7003757258256277\n",
      "Epoch 87 Train Loss : 0.6604776874832485 Test Loss : 0.7066746552785238\n",
      "Epoch 88 Train Loss : 0.6490018730578215 Test Loss : 0.7024023135503134\n",
      "Epoch 89 Train Loss : 0.6507645664007767 Test Loss : 0.7004667917887369\n",
      "Epoch 90 Train Loss : 0.6493703100992285 Test Loss : 0.7059790591398875\n",
      "Epoch 91 Train Loss : 0.6418224391729935 Test Loss : 0.6986689269542694\n",
      "Epoch 92 Train Loss : 0.646825575310251 Test Loss : 0.7001960972944895\n",
      "Epoch 93 Train Loss : 0.6483865483947422 Test Loss : 0.7082522908846537\n",
      "Epoch 94 Train Loss : 0.6449455826178841 Test Loss : 0.7070857385794321\n",
      "Epoch 95 Train Loss : 0.6424343067666759 Test Loss : 0.703323612610499\n",
      "Epoch 96 Train Loss : 0.6439445252003877 Test Loss : 0.7026475270589193\n",
      "Epoch 97 Train Loss : 0.6500946827556776 Test Loss : 0.7023325562477112\n",
      "Epoch 98 Train Loss : 0.6556906570558962 Test Loss : 0.7032230794429779\n",
      "Epoch 99 Train Loss : 0.6447421752888224 Test Loss : 0.7014656960964203\n",
      "Epoch 100 Train Loss : 0.6513250107350557 Test Loss : 0.7036937773227692\n"
     ]
    }
   ],
   "source": [
    "train_losses = []\n",
    "test_losses = []\n",
    "\n",
    "# 학습 횟수 만큼 반복\n",
    "for epoch in range(100):\n",
    "\n",
    "    # 모델 학습(학습데이터)\n",
    "    train_loss = train(model, train_loader, criterion, optimizer, device)\n",
    "    train_losses.append(train_loss)\n",
    "\n",
    "    # 모델 평가 (평가데이터)\n",
    "    test_loss = evaluate(model, test_loader, criterion, device)\n",
    "    test_losses.append(test_loss)\n",
    "\n",
    "    print(f'Epoch {epoch+1} Train Loss : {train_loss} Test Loss : {test_loss}')"
   ]
  },
  {
   "cell_type": "code",
   "execution_count": 16,
   "id": "0bc33e7d-3006-48dc-b350-7e9ecfca4f45",
   "metadata": {},
   "outputs": [
    {
     "data": {
      "image/png": "[encoded data removed]",
      "text/plain": [
       "<Figure size 1200x500 with 1 Axes>"
      ]
     },
     "metadata": {},
     "output_type": "display_data"
    }
   ],
   "source": [
    "from JAEN.utils import plot_training_results\n",
    "plot_training_results(train_losses, test_losses)"
   ]
  },
  {
   "cell_type": "markdown",
   "id": "e1bdf66d-68f1-429c-a864-6b286b654132",
   "metadata": {},
   "source": [
    "#### 드랍아웃을 포함한 모델 클래스 구현"
   ]
  },
  {
   "cell_type": "code",
   "execution_count": 67,
   "id": "6a1a7016-e5c9-44d7-b4d0-016629ae550d",
   "metadata": {},
   "outputs": [
    {
     "data": {
      "text/plain": [
       "==========================================================================================\n",
       "Layer (type:depth-idx)                   Output Shape              Param #\n",
       "==========================================================================================\n",
       "DNN                                      [32, 1]                   --\n",
       "├─Linear: 1-1                            [32, 32]                  256\n",
       "├─ReLU: 1-2                              [32, 32]                  --\n",
       "├─Dropout: 1-3                           [32, 32]                  --\n",
       "├─Linear: 1-4                            [32, 1]                   33\n",
       "├─Sigmoid: 1-5                           [32, 1]                   --\n",
       "==========================================================================================\n",
       "Total params: 289\n",
       "Trainable params: 289\n",
       "Non-trainable params: 0\n",
       "Total mult-adds (M): 0.01\n",
       "==========================================================================================\n",
       "Input size (MB): 0.00\n",
       "Forward/backward pass size (MB): 0.01\n",
       "Params size (MB): 0.00\n",
       "Estimated Total Size (MB): 0.01\n",
       "=========================================================================================="
      ]
     },
     "execution_count": 67,
     "metadata": {},
     "output_type": "execute_result"
    }
   ],
   "source": [
    "class DNN(nn.Module):\n",
    "    def __init__(self):\n",
    "        super().__init__()\n",
    "        self.fc1 = nn.Linear(7, 32)\n",
    "        self.fc2 = nn.Linear(32, 1)\n",
    "        self.dropout = nn.Dropout(0.1)  # 10%의 드랍아웃 적용\n",
    "        self.relu = nn.ReLU()\n",
    "        self.sigmoid = nn.Sigmoid()\n",
    "\n",
    "    def forward(self, x):\n",
    "        x = self.relu(self.fc1(x))\n",
    "        x = self.dropout(x)\n",
    "        x = self.fc2(x)\n",
    "        x = self.sigmoid(x)\n",
    "        return x\n",
    "\n",
    "# 모델 인스턴스화\n",
    "model = DNN().to(device)\n",
    "summary(model, (32, 7))"
   ]
  },
  {
   "cell_type": "markdown",
   "id": "3249305b-49bd-480c-8e11-fb7826d3fe8c",
   "metadata": {},
   "source": [
    "#### Batch Normalization 및 Droupout 포함 모델 정의"
   ]
  },
  {
   "cell_type": "code",
   "execution_count": 17,
   "id": "ce4e56a5-2a41-47db-a578-03781f7b655f",
   "metadata": {},
   "outputs": [
    {
     "data": {
      "text/plain": [
       "==========================================================================================\n",
       "Layer (type:depth-idx)                   Output Shape              Param #\n",
       "==========================================================================================\n",
       "DNN                                      [32, 1]                   --\n",
       "├─Linear: 1-1                            [32, 64]                  512\n",
       "├─BatchNorm1d: 1-2                       [32, 64]                  128\n",
       "├─ReLU: 1-3                              [32, 64]                  --\n",
       "├─Dropout: 1-4                           [32, 64]                  --\n",
       "├─Linear: 1-5                            [32, 32]                  2,080\n",
       "├─BatchNorm1d: 1-6                       [32, 32]                  64\n",
       "├─ReLU: 1-7                              [32, 32]                  --\n",
       "├─Linear: 1-8                            [32, 16]                  528\n",
       "├─BatchNorm1d: 1-9                       [32, 16]                  32\n",
       "├─ReLU: 1-10                             [32, 16]                  --\n",
       "├─Linear: 1-11                           [32, 1]                   17\n",
       "├─Sigmoid: 1-12                          [32, 1]                   --\n",
       "==========================================================================================\n",
       "Total params: 3,361\n",
       "Trainable params: 3,361\n",
       "Non-trainable params: 0\n",
       "Total mult-adds (M): 0.11\n",
       "==========================================================================================\n",
       "Input size (MB): 0.00\n",
       "Forward/backward pass size (MB): 0.06\n",
       "Params size (MB): 0.01\n",
       "Estimated Total Size (MB): 0.07\n",
       "=========================================================================================="
      ]
     },
     "execution_count": 17,
     "metadata": {},
     "output_type": "execute_result"
    }
   ],
   "source": [
    "class DNN(nn.Module):\n",
    "    def __init__(self):\n",
    "        super().__init__()\n",
    "        self.fc1 = nn.Linear(7, 64)\n",
    "        self.fc2 = nn.Linear(64, 32)\n",
    "        self.fc3 = nn.Linear(32, 16)\n",
    "        self.fc4 = nn.Linear(16, 1)\n",
    "\n",
    "        self.bn1 = nn.BatchNorm1d(64)\n",
    "        self.bn2 = nn.BatchNorm1d(32)\n",
    "        self.bn3 = nn.BatchNorm1d(16)\n",
    "        self.relu = nn.ReLU()\n",
    "        self.dropout = nn.Dropout(0.1)\n",
    "        self.sigmoid = nn.Sigmoid()\n",
    "\n",
    "    def forward(self, x):\n",
    "        x = self.relu(self.bn1(self.fc1(x)))\n",
    "        x = self.dropout(x)\n",
    "        x = self.relu(self.bn2(self.fc2(x)))\n",
    "        x = self.relu(self.bn3(self.fc3(x)))\n",
    "        x = self.fc4(x)\n",
    "        x = self.sigmoid(x)\n",
    "        return x\n",
    "\n",
    "model = DNN().to(device)\n",
    "summary(model, input_size=(32, 7))"
   ]
  },
  {
   "cell_type": "code",
   "execution_count": null,
   "id": "70b208a6-95be-4178-a7ef-fa96b5076e4c",
   "metadata": {},
   "outputs": [],
   "source": []
  }
 ],
 "metadata": {
  "kernelspec": {
   "display_name": "AI",
   "language": "python",
   "name": "ai"
  },
  "language_info": {
   "codemirror_mode": {
    "name": "ipython",
    "version": 3
   },
   "file_extension": ".py",
   "mimetype": "text/x-python",
   "name": "python",
   "nbconvert_exporter": "python",
   "pygments_lexer": "ipython3",
   "version": "3.10.16"
  }
 },
 "nbformat": 4,
 "nbformat_minor": 5
}
