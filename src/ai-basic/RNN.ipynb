{
 "cells": [
  {
   "cell_type": "code",
   "execution_count": 1,
   "id": "343e3216-f296-485e-94bd-77140be65d4c",
   "metadata": {},
   "outputs": [],
   "source": [
    "%%capture\n",
    "!pip install JAEN transformers -qU"
   ]
  },
  {
   "cell_type": "code",
   "execution_count": 2,
   "id": "7b054e11-d42a-44ee-8be3-f6aadaf71b7a",
   "metadata": {},
   "outputs": [
    {
     "data": {
      "text/plain": [
       "device(type='cpu')"
      ]
     },
     "execution_count": 2,
     "metadata": {},
     "output_type": "execute_result"
    }
   ],
   "source": [
    "import torch\n",
    "import torch.nn as nn\n",
    "import torch.optim as optim\n",
    "from torchinfo import summary\n",
    "\n",
    "# device 설정 (GPU가 사용 가능하면 GPU로, 그렇지 않으면 CPU 사용)\n",
    "device = torch.device('cuda' if torch.cuda.is_available() else 'cpu')\n",
    "device"
   ]
  },
  {
   "cell_type": "code",
   "execution_count": 3,
   "id": "ad0dda58-d130-4afb-8236-1ba179682232",
   "metadata": {},
   "outputs": [
    {
     "data": {
      "application/vnd.jupyter.widget-view+json": {
       "model_id": "33b01b2f7f8f4314b59c7ea3bfc0935f",
       "version_major": 2,
       "version_minor": 0
      },
      "text/plain": [
       "tokenizer_config.json:   0%|          | 0.00/49.0 [00:00<?, ?B/s]"
      ]
     },
     "metadata": {},
     "output_type": "display_data"
    },
    {
     "name": "stderr",
     "output_type": "stream",
     "text": [
      "C:\\Users\\82103\\anaconda3\\envs\\ai\\lib\\site-packages\\huggingface_hub\\file_download.py:140: UserWarning: `huggingface_hub` cache-system uses symlinks by default to efficiently store duplicated files but your machine does not support them in C:\\Users\\82103\\.cache\\huggingface\\hub\\models--bert-base-cased. Caching files will still work but in a degraded version that might require more space on your disk. This warning can be disabled by setting the `HF_HUB_DISABLE_SYMLINKS_WARNING` environment variable. For more details, see https://huggingface.co/docs/huggingface_hub/how-to-cache#limitations.\n",
      "To support symlinks on Windows, you either need to activate Developer Mode or to run Python as an administrator. In order to activate developer mode, see this article: https://docs.microsoft.com/en-us/windows/apps/get-started/enable-your-device-for-development\n",
      "  warnings.warn(message)\n"
     ]
    },
    {
     "data": {
      "application/vnd.jupyter.widget-view+json": {
       "model_id": "f5c9d7be73c74b5cab5c7c5d091e5bfd",
       "version_major": 2,
       "version_minor": 0
      },
      "text/plain": [
       "config.json:   0%|          | 0.00/570 [00:00<?, ?B/s]"
      ]
     },
     "metadata": {},
     "output_type": "display_data"
    },
    {
     "data": {
      "application/vnd.jupyter.widget-view+json": {
       "model_id": "a7d91988f98a4e858f4379cc5ecbca35",
       "version_major": 2,
       "version_minor": 0
      },
      "text/plain": [
       "vocab.txt:   0%|          | 0.00/213k [00:00<?, ?B/s]"
      ]
     },
     "metadata": {},
     "output_type": "display_data"
    },
    {
     "data": {
      "application/vnd.jupyter.widget-view+json": {
       "model_id": "681d3aa63eec44aa9790fc63043792a6",
       "version_major": 2,
       "version_minor": 0
      },
      "text/plain": [
       "tokenizer.json:   0%|          | 0.00/436k [00:00<?, ?B/s]"
      ]
     },
     "metadata": {},
     "output_type": "display_data"
    }
   ],
   "source": [
    "from transformers import AutoTokenizer\n",
    "\n",
    "tokenizer = AutoTokenizer.from_pretrained(\"bert-base-cased\")"
   ]
  },
  {
   "cell_type": "code",
   "execution_count": 4,
   "id": "d3661cbb-9bb1-455b-963b-cda855943da0",
   "metadata": {},
   "outputs": [
    {
     "data": {
      "text/plain": [
       "{'input_ids': [101, 19016, 26768, 102], 'token_type_ids': [0, 0, 0, 0], 'attention_mask': [1, 1, 1, 1]}"
      ]
     },
     "execution_count": 4,
     "metadata": {},
     "output_type": "execute_result"
    }
   ],
   "source": [
    "tokenizer(\"AI Essential\")"
   ]
  },
  {
   "cell_type": "code",
   "execution_count": 5,
   "id": "5993c620-876f-4a77-9a60-232577101783",
   "metadata": {},
   "outputs": [
    {
     "data": {
      "text/plain": [
       "['AI', 'Essential']"
      ]
     },
     "execution_count": 5,
     "metadata": {},
     "output_type": "execute_result"
    }
   ],
   "source": [
    "tokens = tokenizer.tokenize(\"AI Essential\")\n",
    "tokens"
   ]
  },
  {
   "cell_type": "code",
   "execution_count": 6,
   "id": "80ebfa5e-dd34-4bdc-8200-417ce3872a3a",
   "metadata": {},
   "outputs": [
    {
     "data": {
      "text/plain": [
       "[19016, 26768]"
      ]
     },
     "execution_count": 6,
     "metadata": {},
     "output_type": "execute_result"
    }
   ],
   "source": [
    "ids = tokenizer.convert_tokens_to_ids(tokens)\n",
    "ids"
   ]
  },
  {
   "cell_type": "code",
   "execution_count": 7,
   "id": "cc417145-9de4-44b2-8f85-b147d0f7aeed",
   "metadata": {},
   "outputs": [
    {
     "data": {
      "text/plain": [
       "'AI Essential'"
      ]
     },
     "execution_count": 7,
     "metadata": {},
     "output_type": "execute_result"
    }
   ],
   "source": [
    "tokenizer.decode(ids)"
   ]
  },
  {
   "cell_type": "code",
   "execution_count": 8,
   "id": "b4f477f0-095d-4748-a9ea-33c878cc3775",
   "metadata": {},
   "outputs": [
    {
     "name": "stdout",
     "output_type": "stream",
     "text": [
      "입력 데이터 (정수 인덱스): tensor([2, 5, 7])\n",
      "임베딩 결과 (벡터):\n",
      " tensor([[-0.0485,  1.4750, -0.5698, -2.8216,  0.7891],\n",
      "        [ 1.4334,  0.8642,  0.4075,  0.9980, -0.3732],\n",
      "        [ 0.0363,  0.3731,  1.3836,  1.4787, -0.7586]],\n",
      "       grad_fn=<EmbeddingBackward0>)\n"
     ]
    }
   ],
   "source": [
    "import torch\n",
    "import torch.nn as nn\n",
    "\n",
    "# 임베딩 모듈 생성 (정수 인덱스 10개, 각 인덱스는 5차원의 벡터로 매핑)\n",
    "embedding_layer = nn.Embedding(num_embeddings=10, embedding_dim=5)\n",
    "\n",
    "# 임베딩에 사용할 예시 입력 데이터 (정수 인덱스)\n",
    "# 여기서 [2, 5, 7]은 단어나 토큰에 해당한다고 가정\n",
    "input_data = torch.tensor([2, 5, 7])\n",
    "\n",
    "# 임베딩 레이어에 입력 데이터를 전달하여 벡터 변환\n",
    "embedded_output = embedding_layer(input_data)\n",
    "\n",
    "print(\"입력 데이터 (정수 인덱스):\", input_data)\n",
    "print(\"임베딩 결과 (벡터):\\n\", embedded_output)"
   ]
  },
  {
   "cell_type": "code",
   "execution_count": 9,
   "id": "db1e1b6e-291c-4333-b179-a2f3c963e871",
   "metadata": {},
   "outputs": [],
   "source": [
    "corpus = [\n",
    "    'very good nice quality',\n",
    "    'stop lying',\n",
    "    'ugly terrible',\n",
    "    'excellent work',\n",
    "    'adorable lovely',\n",
    "    'bad',\n",
    "    'great nice'\n",
    "]\n",
    "y = torch.FloatTensor([1, 0, 0, 1, 1, 0, 1]).reshape(-1, 1)  # 0: 부정, 1: 긍정"
   ]
  },
  {
   "cell_type": "code",
   "execution_count": 10,
   "id": "4211af5b-7dae-41cc-806d-f8c0678334c3",
   "metadata": {},
   "outputs": [
    {
     "data": {
      "application/vnd.jupyter.widget-view+json": {
       "model_id": "eb5768debd1e4ce2aaa603c62ba43ab2",
       "version_major": 2,
       "version_minor": 0
      },
      "text/plain": [
       "tokenizer_config.json:   0%|          | 0.00/560 [00:00<?, ?B/s]"
      ]
     },
     "metadata": {},
     "output_type": "display_data"
    },
    {
     "name": "stderr",
     "output_type": "stream",
     "text": [
      "C:\\Users\\82103\\anaconda3\\envs\\ai\\lib\\site-packages\\huggingface_hub\\file_download.py:140: UserWarning: `huggingface_hub` cache-system uses symlinks by default to efficiently store duplicated files but your machine does not support them in C:\\Users\\82103\\.cache\\huggingface\\hub\\models--gmteacher--simple-word-tokenizer. Caching files will still work but in a degraded version that might require more space on your disk. This warning can be disabled by setting the `HF_HUB_DISABLE_SYMLINKS_WARNING` environment variable. For more details, see https://huggingface.co/docs/huggingface_hub/how-to-cache#limitations.\n",
      "To support symlinks on Windows, you either need to activate Developer Mode or to run Python as an administrator. In order to activate developer mode, see this article: https://docs.microsoft.com/en-us/windows/apps/get-started/enable-your-device-for-development\n",
      "  warnings.warn(message)\n"
     ]
    },
    {
     "data": {
      "application/vnd.jupyter.widget-view+json": {
       "model_id": "97cc2c01908244c58a1402bd763001a6",
       "version_major": 2,
       "version_minor": 0
      },
      "text/plain": [
       "tokenizer.json:   0%|          | 0.00/977 [00:00<?, ?B/s]"
      ]
     },
     "metadata": {},
     "output_type": "display_data"
    },
    {
     "data": {
      "application/vnd.jupyter.widget-view+json": {
       "model_id": "158371c26fae4112b183ec7e6095ba88",
       "version_major": 2,
       "version_minor": 0
      },
      "text/plain": [
       "special_tokens_map.json:   0%|          | 0.00/51.0 [00:00<?, ?B/s]"
      ]
     },
     "metadata": {},
     "output_type": "display_data"
    },
    {
     "data": {
      "text/plain": [
       "[[14, 6, 2, 10], [11, 9], [13, 12], [5, 15], [3, 8], [4], [7, 2]]"
      ]
     },
     "execution_count": 10,
     "metadata": {},
     "output_type": "execute_result"
    }
   ],
   "source": [
    "from transformers import AutoTokenizer\n",
    "\n",
    "# GPT2 토크나이저 불러오기\n",
    "tokenizer = AutoTokenizer.from_pretrained(\n",
    "    'gmteacher/simple-word-tokenizer',\n",
    "    clean_up_tokenization_spaces=True)\n",
    "seqs = tokenizer(corpus)['input_ids']\n",
    "seqs  # 변환된 시퀀스"
   ]
  },
  {
   "cell_type": "code",
   "execution_count": 11,
   "id": "50583774-b60a-4ac9-b9d6-640979b9c0fc",
   "metadata": {},
   "outputs": [
    {
     "data": {
      "text/plain": [
       "['very good nice quality',\n",
       " 'stop lying',\n",
       " 'ugly terrible',\n",
       " 'excellent work',\n",
       " 'adorable lovely',\n",
       " 'bad',\n",
       " 'great nice']"
      ]
     },
     "execution_count": 11,
     "metadata": {},
     "output_type": "execute_result"
    }
   ],
   "source": [
    "# 시퀀스를 단어로 복원\n",
    "[tokenizer.decode(seq) for seq in seqs]"
   ]
  },
  {
   "cell_type": "code",
   "execution_count": 12,
   "id": "aeb7e9ef-c090-4bd7-917d-9c0f78160008",
   "metadata": {},
   "outputs": [
    {
     "data": {
      "text/plain": [
       "tensor([[14,  6,  2, 10],\n",
       "        [11,  9,  0,  0],\n",
       "        [13, 12,  0,  0],\n",
       "        [ 5, 15,  0,  0],\n",
       "        [ 3,  8,  0,  0],\n",
       "        [ 4,  0,  0,  0],\n",
       "        [ 7,  2,  0,  0]])"
      ]
     },
     "execution_count": 12,
     "metadata": {},
     "output_type": "execute_result"
    }
   ],
   "source": [
    "from torch.nn.utils.rnn import pad_sequence\n",
    "\n",
    "# 각 시퀀스를 텐서로 변환\n",
    "seqs = [torch.tensor(seq) for seq in seqs]\n",
    "\n",
    "# 패딩\n",
    "x = pad_sequence(seqs, batch_first=True)\n",
    "x"
   ]
  },
  {
   "cell_type": "code",
   "execution_count": 13,
   "id": "9df0cc11-077a-472d-a5d9-8cd443392977",
   "metadata": {},
   "outputs": [],
   "source": [
    "class TextClassifier(nn.Module):\n",
    "    def __init__(self, vocab_size, embed_dim, seq_len, num_class):\n",
    "        super().__init__()\n",
    "        # 임베딩 계층 추가\n",
    "        self.embedding = nn.Embedding(vocab_size, embed_dim)\n",
    "        self.flat = nn.Flatten()\n",
    "        self.fc = nn.Linear(embed_dim*seq_len, num_class)\n",
    "        self.sigmoid = nn.Sigmoid()\n",
    "\n",
    "    def forward(self, x):\n",
    "        out = self.embedding(x)\n",
    "        out = self.flat(out)\n",
    "        out = self.fc(out)\n",
    "        out = self.sigmoid(out)\n",
    "        return out"
   ]
  },
  {
   "cell_type": "code",
   "execution_count": 14,
   "id": "50c90244-ee93-462e-99a8-9f26c3452eb4",
   "metadata": {},
   "outputs": [
    {
     "data": {
      "text/plain": [
       "torch.Size([1, 1])"
      ]
     },
     "execution_count": 14,
     "metadata": {},
     "output_type": "execute_result"
    }
   ],
   "source": [
    "torch.manual_seed(0)\n",
    "# 모델 인스턴스 생성\n",
    "model = TextClassifier(tokenizer.vocab_size, 2, x.shape[1], 1).to(device)\n",
    "\n",
    "# 출력 테스트\n",
    "output = model(x[:1].to(device))\n",
    "output.shape"
   ]
  },
  {
   "cell_type": "code",
   "execution_count": 15,
   "id": "19fb57f4-4fc3-47da-b893-c785a96dc10c",
   "metadata": {},
   "outputs": [],
   "source": [
    "# 장치 적용\n",
    "x = x.to(device)\n",
    "y = y.to(device)"
   ]
  },
  {
   "cell_type": "code",
   "execution_count": 16,
   "id": "ff7f9fc5-9c97-4501-a1fc-4558adcae72f",
   "metadata": {},
   "outputs": [
    {
     "name": "stdout",
     "output_type": "stream",
     "text": [
      "epoch:    0, cost: 0.8336125612\n",
      "epoch: 1000, cost: 0.0999853984\n",
      "epoch: 2000, cost: 0.0096470183\n",
      "epoch: 3000, cost: 0.0027971682\n",
      "epoch: 4000, cost: 0.0011345368\n",
      "epoch: 5000, cost: 0.0005321923\n",
      "epoch: 6000, cost: 0.0002693048\n",
      "epoch: 7000, cost: 0.0001423986\n",
      "epoch: 8000, cost: 0.0000773963\n",
      "epoch: 9000, cost: 0.0000428017\n",
      "epoch: 10000, cost: 0.0000239753\n",
      "epoch: 11000, cost: 0.0000135433\n",
      "epoch: 12000, cost: 0.0000076884\n",
      "epoch: 13000, cost: 0.0000043999\n",
      "epoch: 14000, cost: 0.0000025219\n",
      "epoch: 15000, cost: 0.0000014370\n",
      "epoch: 16000, cost: 0.0000008620\n",
      "epoch: 17000, cost: 0.0000004852\n",
      "epoch: 18000, cost: 0.0000002816\n",
      "epoch: 19000, cost: 0.0000001721\n",
      "epoch: 20000, cost: 0.0000000771\n",
      "epoch: 21000, cost: 0.0000000630\n",
      "epoch: 22000, cost: 0.0000000459\n",
      "epoch: 23000, cost: 0.0000000059\n",
      "epoch: 24000, cost: 0.0000000033\n",
      "epoch: 25000, cost: 0.0000000019\n",
      "epoch: 26000, cost: 0.0000000012\n",
      "epoch: 27000, cost: 0.0000000007\n",
      "epoch: 28000, cost: 0.0000000005\n",
      "epoch: 29000, cost: 0.0000000003\n"
     ]
    }
   ],
   "source": [
    "loss_fn = nn.BCELoss()  # 손실 함수\n",
    "optimizer = optim.Adam(model.parameters())  # 최적화 도구(optimizer)\n",
    "\n",
    "epochs = 30000  # 최대 에폭 지정\n",
    "results = {'cost':[]}\n",
    "\n",
    "model.train()  # 학습 모드 설정\n",
    "\n",
    "for epoch in range(epochs):\n",
    "    h = model(x)  # 예측 값 생성(추론)\n",
    "    loss = loss_fn(h, y)  # 손실 계산\n",
    "\n",
    "    optimizer.zero_grad()  # 미분 값 초기화\n",
    "    loss.backward()  # 역전파(미분 계산)\n",
    "    optimizer.step()  # 업데이트 진행\n",
    "\n",
    "    results['cost'].append(loss.item())\n",
    "\n",
    "    if epoch % 1000 == 0:\n",
    "        print(f'epoch: {epoch:4d}, cost: {results[\"cost\"][-1]:.10f}')"
   ]
  },
  {
   "cell_type": "code",
   "execution_count": 17,
   "id": "ac7eca22-31bb-42c7-8e9a-035cbdf651b2",
   "metadata": {},
   "outputs": [
    {
     "name": "stdout",
     "output_type": "stream",
     "text": [
      "실제 값: tensor([1., 0., 0., 1., 1., 0., 1.])\n",
      "예측 값: tensor([1., 0., 0., 1., 1., 0., 1.])\n"
     ]
    }
   ],
   "source": [
    "# 예측 값 생성\n",
    "h = model(x)\n",
    "\n",
    "# 예측 값(시그모이드 값)을 클래스로 변환\n",
    "pred = (h.reshape(-1).detach().cpu() > 0.5).to(torch.float32)\n",
    "\n",
    "print(f'실제 값: {y.reshape(-1)}')\n",
    "print(f'예측 값: {pred}')"
   ]
  },
  {
   "cell_type": "code",
   "execution_count": 18,
   "id": "a705e412-7c2b-49ea-b3c2-0f95da44c245",
   "metadata": {},
   "outputs": [
    {
     "data": {
      "image/png": "[encoded data removed]",
      "text/plain": [
       "<Figure size 640x480 with 1 Axes>"
      ]
     },
     "metadata": {},
     "output_type": "display_data"
    }
   ],
   "source": [
    "import matplotlib.pyplot as plt\n",
    "weights = model.embedding.weight.detach().cpu().numpy()\n",
    "unique_ids = x.unique().cpu().numpy()\n",
    "\n",
    "for idx, (d1, d2) in enumerate(weights[unique_ids]):\n",
    "    if idx == 0:\n",
    "        continue\n",
    "    plt.plot(d1, d2, 'b.')\n",
    "    plt.annotate(tokenizer.decode(unique_ids[idx]), (d1, d2))"
   ]
  },
  {
   "cell_type": "code",
   "execution_count": null,
   "id": "9e54dd2c-d08b-4506-a71a-50956e368f4e",
   "metadata": {},
   "outputs": [],
   "source": []
  }
 ],
 "metadata": {
  "kernelspec": {
   "display_name": "AI",
   "language": "python",
   "name": "ai"
  },
  "language_info": {
   "codemirror_mode": {
    "name": "ipython",
    "version": 3
   },
   "file_extension": ".py",
   "mimetype": "text/x-python",
   "name": "python",
   "nbconvert_exporter": "python",
   "pygments_lexer": "ipython3",
   "version": "3.10.16"
  }
 },
 "nbformat": 4,
 "nbformat_minor": 5
}
